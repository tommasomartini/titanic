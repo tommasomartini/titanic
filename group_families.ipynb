{
 "cells": [
  {
   "cell_type": "markdown",
   "metadata": {},
   "source": [
    "# Group families\n",
    "This notebook tries to infer the family relationships between passengers."
   ]
  },
  {
   "cell_type": "code",
   "execution_count": null,
   "metadata": {},
   "outputs": [],
   "source": [
    "import pandas as pd\n",
    "import dataset as ds\n",
    "\n",
    "X_dataset, y_dataset = ds.load_training_set()\n",
    "X_testset = ds.load_test_set()\n",
    "\n",
    "df = pd.merge(X_dataset.reset_index(), X_testset.reset_index(), how='outer').set_index(ds.ID_COLUMN_NAME)\n",
    "df.shape"
   ]
  },
  {
   "cell_type": "code",
   "execution_count": null,
   "metadata": {},
   "outputs": [],
   "source": [
    "# Just to have them under the eyes.\n",
    "attributes = [\n",
    "    'Pclass',\n",
    "    'Name',\n",
    "    'Sex',\n",
    "    'Age',\n",
    "    'SibSp',\n",
    "    'Parch',\n",
    "    'Ticket',\n",
    "    'Fare',\n",
    "    'Cabin',\n",
    "    'Embarked',\n",
    "]"
   ]
  },
  {
   "cell_type": "markdown",
   "metadata": {},
   "source": [
    "Men's names contain last name, title and first name."
   ]
  },
  {
   "cell_type": "code",
   "execution_count": null,
   "metadata": {},
   "outputs": [],
   "source": [
    "men_name_pattern = r'(?P<LastName>.+),\\s(?P<Title>\\S+)\\s(?P<FirstName>.*?)$'\n",
    "\n",
    "men_with_sibsp_df = df.loc[(df['SibSp'] != 0) & (df['Sex'] == 'male')]\n",
    "men_df = men_with_sibsp_df.join(men_with_sibsp_df['Name'].str.extract(men_name_pattern)) # .reset_index()\n",
    "\n",
    "print('{} men with SibSp'.format(len(men_df)))\n",
    "men_df.head()"
   ]
  },
  {
   "cell_type": "markdown",
   "metadata": {},
   "source": [
    "Married women's names are the same as their husbands' names (apart for the title), but they have their unmarried name between parentheses at the end."
   ]
  },
  {
   "cell_type": "code",
   "execution_count": null,
   "metadata": {},
   "outputs": [],
   "source": [
    "women_name_pattern = r'(?P<LastName>.+),\\s(?P<Title>\\S+)\\s(?P<FirstName>.*?)(\\s\\((?P<ProperName>.*)\\))?$'\n",
    "\n",
    "women_with_sibsp_df = df.loc[(df['SibSp'] != 0) & (df['Sex'] == 'female')]\n",
    "women_df = women_with_sibsp_df.join(women_with_sibsp_df['Name'].str.extract(women_name_pattern).drop(columns=3)) # .reset_index()\n",
    "\n",
    "print('{} women with SibSp'.format(len(women_df)))\n",
    "women_df.head()"
   ]
  },
  {
   "cell_type": "markdown",
   "metadata": {},
   "source": [
    "Match male and female passengers with the same first and last names: most ikely they are married."
   ]
  },
  {
   "cell_type": "code",
   "execution_count": null,
   "metadata": {},
   "outputs": [],
   "source": [
    "# Merge on first and last name.\n",
    "pairs_df = men_df.merge(\n",
    "    women_df,\n",
    "    how='outer',\n",
    "    on=['LastName', 'FirstName'],\n",
    "    suffixes=('_men', '_women'),\n",
    ")\n",
    "\n",
    "print(pairs_df.shape)"
   ]
  },
  {
   "cell_type": "markdown",
   "metadata": {},
   "source": [
    "Drop any rows not having either the man name or the woman name."
   ]
  },
  {
   "cell_type": "code",
   "execution_count": null,
   "metadata": {},
   "outputs": [],
   "source": [
    "pairs_df = pairs_df.dropna(axis='rows', subset=['Name_men', 'Name_women'])\n",
    "print(pairs_df.shape)"
   ]
  },
  {
   "cell_type": "markdown",
   "metadata": {},
   "source": [
    "These 92 pairs should definitely be married couple. A way to double check is checking that they have the same cabin."
   ]
  },
  {
   "cell_type": "code",
   "execution_count": null,
   "metadata": {},
   "outputs": [],
   "source": [
    "pairs_df.dropna(axis='rows', subset=['Cabin_men', 'Cabin_women'], how='any')\\\n",
    ".loc[pairs_df['Cabin_men'] != pairs_df['Cabin_women']]"
   ]
  },
  {
   "cell_type": "markdown",
   "metadata": {},
   "source": [
    "Fair enough: the only couple not sharing the cabin is the captain and his wife.\n",
    "But many other couples do not have the Cabin data. We can check the embark port or the class, maybe."
   ]
  },
  {
   "cell_type": "code",
   "execution_count": null,
   "metadata": {},
   "outputs": [],
   "source": [
    "print(len(pairs_df.dropna(axis='rows', subset=['Pclass_men', 'Pclass_women'], how='any')))\n",
    "pairs_df.dropna(axis='rows', subset=['Pclass_men', 'Pclass_women'], how='any')\\\n",
    ".loc[pairs_df['Pclass_men'] != pairs_df['Pclass_women']]"
   ]
  },
  {
   "cell_type": "code",
   "execution_count": null,
   "metadata": {},
   "outputs": [],
   "source": [
    "print(len(pairs_df.dropna(axis='rows', subset=['Embarked_men', 'Embarked_women'], how='any')))\n",
    "pairs_df.dropna(axis='rows', subset=['Embarked_men', 'Embarked_women'], how='any')\\\n",
    ".loc[pairs_df['Embarked_men'] != pairs_df['Embarked_women']]"
   ]
  },
  {
   "cell_type": "markdown",
   "metadata": {},
   "source": [
    "All the 92 pairs have at least the class and the embark port in common. I think we are sure enough now."
   ]
  },
  {
   "cell_type": "code",
   "execution_count": null,
   "metadata": {},
   "outputs": [],
   "source": [
    "import numpy as np\n",
    "\n",
    "num_passengers = len(df)\n",
    "married_with = np.zeros((num_passengers, num_passengers))\n",
    "parent_of = np.zeros((num_passengers, num_passengers))\n",
    "sibling_of = np.zeros((num_passengers, num_passengers))"
   ]
  },
  {
   "cell_type": "code",
   "execution_count": null,
   "metadata": {},
   "outputs": [],
   "source": []
  },
  {
   "cell_type": "markdown",
   "metadata": {},
   "source": [
    "# Group the passengers by last name"
   ]
  },
  {
   "cell_type": "code",
   "execution_count": null,
   "metadata": {},
   "outputs": [],
   "source": [
    "df['LastName'] = df['Name'].str.extract('(?P<LastName>.*),')\n",
    "df2 = df.reset_index()\n",
    "\n",
    "len(df2.groupby('LastName')['Name'].count())"
   ]
  },
  {
   "cell_type": "code",
   "execution_count": null,
   "metadata": {},
   "outputs": [],
   "source": [
    "all_titles = [\n",
    "    'Capt', # It seems the captain had wife and daughter onboard\n",
    "    'Col', # 1/4 Cols travels with a wife (29 years younger!)\n",
    "    'Countess', # The only Countess is travelling alone\n",
    "    'Don', # The only Don is travelling alone\n",
    "    'Dona', # The only Dona is travelling alone\n",
    "    'Dr', # 3/8 Drs travels with a wife\n",
    "    'Jonkheer', # The only Jonkheer is trvaelling alone\n",
    "    'Lady', # The only Lady is married to the only Sir\n",
    "    'Major', # None of the Majors travels with a partner\n",
    "    'Master',\n",
    "    'Miss',\n",
    "    'Mlle',\n",
    "    'Mme',\n",
    "    'Mr',\n",
    "    'Mrs',\n",
    "    'Ms',\n",
    "    'Rev', # 2/8 Revs travel with a wife\n",
    "    'Sir',\n",
    "]"
   ]
  },
  {
   "cell_type": "code",
   "execution_count": null,
   "metadata": {},
   "outputs": [],
   "source": []
  }
 ],
 "metadata": {
  "kernelspec": {
   "display_name": "Python 3",
   "language": "python",
   "name": "python3"
  },
  "language_info": {
   "codemirror_mode": {
    "name": "ipython",
    "version": 3
   },
   "file_extension": ".py",
   "mimetype": "text/x-python",
   "name": "python",
   "nbconvert_exporter": "python",
   "pygments_lexer": "ipython3",
   "version": "3.5.2"
  }
 },
 "nbformat": 4,
 "nbformat_minor": 4
}
