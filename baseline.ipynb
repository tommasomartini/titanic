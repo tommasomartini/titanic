{
 "cells": [
  {
   "cell_type": "markdown",
   "metadata": {},
   "source": [
    "# Baseline\n",
    "The baseline is given by a silly classifier which predicts any sample with the majority class."
   ]
  },
  {
   "cell_type": "code",
   "execution_count": null,
   "metadata": {},
   "outputs": [],
   "source": [
    "import dataset as ds\n",
    "\n",
    "train_df, eval_df = ds.get_formatted_splits()\n",
    "\n",
    "survival_rate_train_set = train_df['Survived'].mean()\n",
    "survival_rate_eval_set = eval_df['Survived'].mean()\n",
    "\n",
    "print('Survival rate in the training set: {}'.format(survival_rate_train_set))\n",
    "print('Survival rate in the evaluation set: {}'.format(survival_rate_eval_set))\n",
    "\n",
    "baseline = 1 - survival_rate_eval_set\n",
    "print('baseline: {}'.format(baseline))"
   ]
  }
 ],
 "metadata": {
  "kernelspec": {
   "display_name": "Python 3",
   "language": "python",
   "name": "python3"
  },
  "language_info": {
   "codemirror_mode": {
    "name": "ipython",
    "version": 3
   },
   "file_extension": ".py",
   "mimetype": "text/x-python",
   "name": "python",
   "nbconvert_exporter": "python",
   "pygments_lexer": "ipython3",
   "version": "3.5.2"
  }
 },
 "nbformat": 4,
 "nbformat_minor": 4
}
