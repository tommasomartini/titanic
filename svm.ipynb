{
 "cells": [
  {
   "cell_type": "markdown",
   "metadata": {},
   "source": [
    "# SVM\n",
    "Use Support Vector Machines to solve the challenge."
   ]
  },
  {
   "cell_type": "code",
   "execution_count": null,
   "metadata": {},
   "outputs": [],
   "source": [
    "import dataset as ds\n",
    "\n",
    "train_df, eval_df = ds.get_formatted_splits()\n",
    "train_df.dtypes\n",
    "# train_df.head()"
   ]
  },
  {
   "cell_type": "markdown",
   "metadata": {},
   "source": [
    "## Approach 1: SVM on all the attributes"
   ]
  },
  {
   "cell_type": "code",
   "execution_count": null,
   "metadata": {},
   "outputs": [],
   "source": [
    "attributes = [\n",
    "    'Pclass',\n",
    "    'Sex',\n",
    "    'Age',\n",
    "    'SibSp',\n",
    "    'Parch',\n",
    "    'Fare',\n",
    "    'Embarked',\n",
    "    'Title',\n",
    "    'TicketNumber',\n",
    "    'Floor',\n",
    "]\n",
    "\n",
    "categorical_columns = train_df.select_dtypes('category').columns\n",
    "train_df[categorical_columns] = train_df[categorical_columns].apply(lambda x: x.cat.codes)\n",
    "eval_df[categorical_columns] = eval_df[categorical_columns].apply(lambda x: x.cat.codes)\n",
    "\n",
    "print(train_df.shape)\n",
    "train_df.describe()"
   ]
  },
  {
   "cell_type": "code",
   "execution_count": null,
   "metadata": {},
   "outputs": [],
   "source": [
    "from sklearn.preprocessing import StandardScaler\n",
    "\n",
    "std_scaler = StandardScaler().fit(train_df[attributes])\n",
    "train_df[attributes] = std_scaler.transform(train_df[attributes])\n",
    "eval_df[attributes] = std_scaler.transform(eval_df[attributes])\n",
    "\n",
    "train_df.describe()"
   ]
  },
  {
   "cell_type": "code",
   "execution_count": null,
   "metadata": {},
   "outputs": [],
   "source": [
    "from sklearn.svm import SVC\n",
    "\n",
    "svm_args = dict(\n",
    "    C = 1,\n",
    "    kernel = 'rbf',\n",
    "    random_state = 0,\n",
    "    class_weight='balanced',\n",
    "    max_iter = -1,\n",
    ")\n",
    "svc = SVC(**svm_args).fit(train_df[attributes], train_df['Survived'])\n",
    "accuracy = svc.score(eval_df[attributes], eval_df['Survived'])\n",
    "\n",
    "print('Accuracy: {}'.format(accuracy))"
   ]
  },
  {
   "cell_type": "code",
   "execution_count": null,
   "metadata": {},
   "outputs": [],
   "source": []
  }
 ],
 "metadata": {
  "kernelspec": {
   "display_name": "Python 3",
   "language": "python",
   "name": "python3"
  },
  "language_info": {
   "codemirror_mode": {
    "name": "ipython",
    "version": 3
   },
   "file_extension": ".py",
   "mimetype": "text/x-python",
   "name": "python",
   "nbconvert_exporter": "python",
   "pygments_lexer": "ipython3",
   "version": "3.5.2"
  }
 },
 "nbformat": 4,
 "nbformat_minor": 4
}
