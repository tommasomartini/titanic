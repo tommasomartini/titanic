{
 "cells": [
  {
   "cell_type": "markdown",
   "metadata": {},
   "source": [
    "# Random Forest\n",
    "Use Random Forests to solve the challenge."
   ]
  },
  {
   "cell_type": "code",
   "execution_count": null,
   "metadata": {},
   "outputs": [],
   "source": [
    "import dataset as ds\n",
    "\n",
    "train_df, eval_df = ds.get_formatted_splits()\n",
    "train_df.dtypes\n",
    "# train_df.head()"
   ]
  },
  {
   "cell_type": "code",
   "execution_count": null,
   "metadata": {},
   "outputs": [],
   "source": [
    "attributes = [\n",
    "    'Pclass',\n",
    "    'Sex',\n",
    "    'Age',\n",
    "    'SibSp',\n",
    "    'Parch',\n",
    "    'Fare',\n",
    "    'Embarked',\n",
    "    'Title',\n",
    "    'TicketNumber',\n",
    "    'Floor',\n",
    "]\n",
    "\n",
    "categorical_columns = train_df.select_dtypes('category').columns\n",
    "train_df[categorical_columns] = train_df[categorical_columns].apply(lambda x: x.cat.codes)\n",
    "eval_df[categorical_columns] = eval_df[categorical_columns].apply(lambda x: x.cat.codes)\n",
    "\n",
    "print(train_df.shape)\n",
    "train_df[attributes].describe()"
   ]
  },
  {
   "cell_type": "code",
   "execution_count": null,
   "metadata": {},
   "outputs": [],
   "source": [
    "from sklearn.ensemble import RandomForestClassifier\n",
    "\n",
    "rf_args = dict(\n",
    "    n_estimators = 100,\n",
    "    criterion = 'gini',\n",
    "    max_depth = 20,\n",
    "    bootstrap = True,\n",
    "    random_state = 0,\n",
    ")\n",
    "rfc = RandomForestClassifier(**rf_args).fit(train_df[attributes], train_df['Survived'])\n",
    "accuracy = rfc.score(eval_df[attributes], eval_df['Survived'])\n",
    "\n",
    "print('Accuracy: {}'.format(accuracy))"
   ]
  },
  {
   "cell_type": "code",
   "execution_count": null,
   "metadata": {},
   "outputs": [],
   "source": [
    "def _predict(n_estimators, max_depth):\n",
    "    rf_args = dict(\n",
    "        n_estimators = n_estimators,\n",
    "        criterion = 'gini',\n",
    "        max_depth = max_depth,\n",
    "        bootstrap = True,\n",
    "        random_state = 0,\n",
    "    )\n",
    "    return RandomForestClassifier(**rf_args).fit(train_df[attributes], train_df['Survived']).score(eval_df[attributes], eval_df['Survived'])\n",
    "\n",
    "\n",
    "import numpy as np\n",
    "depths = list(range(1, 20 + 1, 5))\n",
    "estims = list(range(100, 150 + 1, 10))\n",
    "accs = np.zeros((len(estims), len(depths)))\n",
    "for row_idx, n_estimators in enumerate(estims):\n",
    "    for col_idx, max_depth in enumerate(depths):\n",
    "        accs[row_idx, col_idx] = _predict(n_estimators, max_depth)\n",
    "\n",
    "print(np.min(accs))\n",
    "print(np.max(accs))"
   ]
  },
  {
   "cell_type": "code",
   "execution_count": null,
   "metadata": {},
   "outputs": [],
   "source": [
    "%matplotlib inline\n",
    "\n",
    "import matplotlib.pyplot as plt\n",
    "\n",
    "plt.figure()\n",
    "plt.imshow(accs, cmap=plt.get_cmap('jet'))\n",
    "\n",
    "plt.show()"
   ]
  },
  {
   "cell_type": "code",
   "execution_count": null,
   "metadata": {},
   "outputs": [],
   "source": []
  }
 ],
 "metadata": {
  "kernelspec": {
   "display_name": "Python 3",
   "language": "python",
   "name": "python3"
  },
  "language_info": {
   "codemirror_mode": {
    "name": "ipython",
    "version": 3
   },
   "file_extension": ".py",
   "mimetype": "text/x-python",
   "name": "python",
   "nbconvert_exporter": "python",
   "pygments_lexer": "ipython3",
   "version": "3.5.2"
  }
 },
 "nbformat": 4,
 "nbformat_minor": 4
}
