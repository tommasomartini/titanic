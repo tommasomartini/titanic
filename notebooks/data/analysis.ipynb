{
 "cells": [
  {
   "cell_type": "code",
   "execution_count": null,
   "metadata": {},
   "outputs": [],
   "source": [
    "import pandas as pd\n",
    "import dataset as ds\n",
    "\n",
    "X_dataset, y_dataset = ds.load_training_set()\n",
    "X_testset = ds.load_test_set()\n",
    "\n",
    "df = pd.merge(X_dataset.reset_index(), X_testset.reset_index(), how='outer').set_index(ds.ID_COLUMN_NAME)\n",
    "df.index"
   ]
  },
  {
   "cell_type": "code",
   "execution_count": null,
   "metadata": {},
   "outputs": [],
   "source": [
    "df.head()"
   ]
  },
  {
   "cell_type": "markdown",
   "metadata": {},
   "source": [
    "# Titles\n",
    "In this section we try to extract as much information as possible from the name."
   ]
  },
  {
   "cell_type": "code",
   "execution_count": null,
   "metadata": {},
   "outputs": [],
   "source": [
    "import preprocessing as pp\n",
    "\n",
    "title_list = pp.get_title_list(df)\n",
    "set(title_list)"
   ]
  },
  {
   "cell_type": "code",
   "execution_count": null,
   "metadata": {},
   "outputs": [],
   "source": [
    "from enum import Enum\n",
    "\n",
    "# Map each title to (married, status, English) where\n",
    "# * status = (married, single, any)\n",
    "# * status = (simple, noble, special)\n",
    "# * English = (True, False) whether the title sounds English or not\n",
    "\n",
    "class Married(Enum):\n",
    "    MARRIED = 'married'\n",
    "    SINGLE = 'single'\n",
    "    ANY = 'any'\n",
    "\n",
    "\n",
    "class Status(Enum):\n",
    "    SIMPLE = 'simple'\n",
    "    NOBLE = 'noble'\n",
    "    SPECIAL = 'special'\n",
    "    \n",
    "\n",
    "title_mapping = {\n",
    "    'Capt': (Married.MARRIED, Status.SPECIAL, True), # It seems the captain had wife and daughter onboard\n",
    "    'Col': (Married.ANY, Status.SPECIAL, True), # 1/4 Cols travels with a wife (29 years younger!)\n",
    "    'Countess': (Married.ANY, Status.NOBLE, True), # The only Countess is travelling alone\n",
    "    'Don': (Married.SINGLE, Status.SPECIAL, False), # The only Don is travelling alone\n",
    "    'Dona': (Married.MARRIED, Status.NOBLE, False), # The only Dona is travelling alone\n",
    "    'Dr': (Married.ANY, Status.SPECIAL, True), # 3/8 Drs travels with a wife\n",
    "    'Jonkheer': (Married.ANY, Status.NOBLE, False), # The only Jonkheer is trvaelling alone\n",
    "    'Lady': (Married.ANY, Status.NOBLE, True), # The only Lady is married to the only Sir\n",
    "    'Major': (Married.SINGLE, Status.SPECIAL, True), # None of the Majors travels with a partner\n",
    "    'Master': (Married.ANY, Status.SIMPLE, True),\n",
    "    'Miss': (Married.SINGLE, Status.SIMPLE, True),\n",
    "    'Mlle': (Married.SINGLE, Status.SIMPLE, False),\n",
    "    'Mme': (Married.MARRIED, Status.SIMPLE, False),\n",
    "    'Mr': (Married.ANY, Status.SIMPLE, True),\n",
    "    'Mrs': (Married.MARRIED, Status.SIMPLE, True),\n",
    "    'Ms': (Married.MARRIED, Status.SIMPLE, True),\n",
    "    'Rev': (Married.ANY, Status.SPECIAL, True), # 2/8 Revs travel with a wife\n",
    "    'Sir': (Married.MARRIED, Status.NOBLE, True), # The only Sir is married with the only Lady\n",
    "}"
   ]
  },
  {
   "cell_type": "code",
   "execution_count": null,
   "metadata": {},
   "outputs": [],
   "source": [
    "df = pp.add_title_column(df)\n",
    "\n",
    "df = df.assign(TitleMarried=df['Title'].apply(lambda title: title_mapping[title][0].value),\n",
    "              TitleStatus=df['Title'].apply(lambda title: title_mapping[title][1].value),\n",
    "              TitleEnglish=df['Title'].apply(lambda title: title_mapping[title][2]))\n",
    "\n",
    "for title, title_info in title_mapping.items():\n",
    "    if title_info[2] == Status.SIMPLE:\n",
    "        continue\n",
    "    \n",
    "    ddf = df.loc[df['Title'] == title][['Name', 'SibSp', 'Parch']]\n",
    "    print('{}: {}'.format(title, len(ddf)))\n",
    "    print(ddf)\n",
    "    print('===')\n"
   ]
  },
  {
   "cell_type": "code",
   "execution_count": null,
   "metadata": {},
   "outputs": [],
   "source": [
    "names_to_check = [\n",
    "    'Minahan',\n",
    "    'Frauenthal',\n",
    "    'Crosby',\n",
    "    'Dodge',\n",
    "    'Astor',\n",
    "    'Carter',\n",
    "    'Lahtinen',\n",
    "]\n",
    "for name in map(lambda n: n.lower(), names_to_check):\n",
    "    print(name)\n",
    "    print(df.loc[df['Name'].apply(lambda x: x.lower()).str.contains(name)][['Name', 'Age', 'SibSp', 'Parch']])\n",
    "    print('=====')"
   ]
  },
  {
   "cell_type": "code",
   "execution_count": null,
   "metadata": {},
   "outputs": [],
   "source": [
    "# Try to group passengers by their last name.\n",
    "last_names_df = df.assign(last_name=df['Name'].apply(lambda name: name.split(',')[0].lower()))\n",
    "last_names_df.reset_index().groupby('last_name')['PassengerId'].count()"
   ]
  },
  {
   "cell_type": "code",
   "execution_count": null,
   "metadata": {},
   "outputs": [],
   "source": [
    "%matplotlib inline\n",
    "\n",
    "import matplotlib.pyplot as plt\n",
    "\n",
    "train_df = pd.merge(y_dataset, df, how='inner', on='PassengerId')\n",
    "\n",
    "title_df = train_df.groupby(['TitleStatus', 'Sex']).agg({'Survived': ['mean', 'count', 'sum']})\n",
    "title_df\n",
    "\n",
    "num_survived = title_df['Survived', 'sum']\n",
    "num_not_survived = title_df['Survived', 'count'] - num_survived\n",
    "\n",
    "plt.figure()\n",
    "\n",
    "plt.barh(range(len(title_df)), num_survived,\n",
    "       tick_label=title_df.index)\n",
    "plt.barh(range(len(title_df)), num_not_survived, left=num_survived, color='r',\n",
    "       tick_label=title_df.index)\n",
    "plt.xlabel('Prob of surviving')\n",
    "\n",
    "plt.xscale('log')\n",
    "\n",
    "plt.show()"
   ]
  },
  {
   "cell_type": "code",
   "execution_count": null,
   "metadata": {},
   "outputs": [],
   "source": [
    "plt.figure()\n",
    "\n",
    "plt.barh(range(len(title_df)), title_df['Survived', 'mean'],\n",
    "       tick_label=title_df.index)\n",
    "plt.xlabel('Prob of surviving')\n",
    "\n",
    "plt.show()"
   ]
  },
  {
   "cell_type": "code",
   "execution_count": null,
   "metadata": {},
   "outputs": [],
   "source": []
  }
 ],
 "metadata": {
  "kernelspec": {
   "display_name": "Python 3",
   "language": "python",
   "name": "python3"
  },
  "language_info": {
   "codemirror_mode": {
    "name": "ipython",
    "version": 3
   },
   "file_extension": ".py",
   "mimetype": "text/x-python",
   "name": "python",
   "nbconvert_exporter": "python",
   "pygments_lexer": "ipython3",
   "version": "3.5.2"
  }
 },
 "nbformat": 4,
 "nbformat_minor": 4
}
