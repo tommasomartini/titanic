{
 "cells": [
  {
   "cell_type": "markdown",
   "metadata": {},
   "source": [
    "# Data formatting"
   ]
  },
  {
   "cell_type": "code",
   "execution_count": null,
   "metadata": {},
   "outputs": [],
   "source": [
    "import dataset as ds\n",
    "\n",
    "import pandas as pd\n",
    "\n",
    "dataset_df = ds.get_dataset()\n",
    "print('Dataset size: {}'.format(len(dataset_df)))\n",
    "print('Attributes:')\n",
    "print('\\n'.join('{}: {}'.format(n, t) for n, t in zip(dataset_df.keys(), dataset_df.dtypes)))"
   ]
  },
  {
   "cell_type": "code",
   "execution_count": null,
   "metadata": {},
   "outputs": [],
   "source": [
    "def convert_attribute_to_numeric(df, attribute_name):\n",
    "    mapping = {n: i for i, n in enumerate(df[attribute_name].unique())}\n",
    "    df.replace({attribute_name: mapping}, inplace=True)\n",
    "\n",
    "def convert_attribute_to_categorical(df, attribute_name):\n",
    "    categories = df[attribute_name].dropna().unique()\n",
    "    df[attribute_name] = pd.Categorical(df[attribute_name], categories=categories, ordered=False)\n",
    "    return df\n",
    "\n",
    "attributes_to_convert = ['Sex', 'Embarked', 'Pclass']\n",
    "for attribute_name in attributes_to_convert:\n",
    "    dataset_df = convert_attribute_to_categorical(dataset_df, attribute_name)\n",
    "\n",
    "print('Attributes:')\n",
    "print('\\n'.join('{}: {}'.format(n, t) for n, t in zip(dataset_df.keys(), dataset_df.dtypes)))\n",
    "dataset_df.head()"
   ]
  },
  {
   "cell_type": "markdown",
   "metadata": {},
   "source": [
    "Can we do anything with names, tickets and cabins?"
   ]
  },
  {
   "cell_type": "code",
   "execution_count": null,
   "metadata": {},
   "outputs": [],
   "source": [
    "# Extract the title from the names.\n",
    "\n",
    "import re\n",
    "from collections import Counter\n",
    "\n",
    "name_template = r'[^,]+, (?P<title>[^\\.]+)\\.\\s'\n",
    "name_pattern = re.compile(name_template)\n",
    "\n",
    "titles_list = []\n",
    "for name in dataset_df['Name']:\n",
    "    match = name_pattern.match(name)\n",
    "    if not match:\n",
    "        print('!!! -> {}'.format(name))\n",
    "        titles_list.append(None)\n",
    "        continue\n",
    "    else:\n",
    "        titles_list.append(match.group('title').split(' ')[-1])\n",
    "\n",
    "titles_counter = Counter(titles_list)\n",
    "\n",
    "dataset_df['Title'] = pd.Categorical(titles_list, categories=titles_counter.keys(), ordered=False)\n",
    "\n",
    "print('Attributes:')\n",
    "print('\\n'.join('{}: {}'.format(n, t) for n, t in zip(dataset_df.keys(), dataset_df.dtypes)))\n",
    "dataset_df.head()"
   ]
  },
  {
   "cell_type": "code",
   "execution_count": null,
   "metadata": {},
   "outputs": [],
   "source": [
    "# Extract the ticket number from the tickets.\n",
    "\n",
    "ticket_template = r'(?P<number>\\d+)( (?P<add_info>.*))?$'\n",
    "ticket_pattern = re.compile(ticket_template)\n",
    "\n",
    "ticket_numbers = []\n",
    "ticket_additional_infos = set()\n",
    "for row_idx, ticket in enumerate(dataset_df['Ticket']):\n",
    "    match = ticket_pattern.match(ticket[::-1])\n",
    "    if not match:\n",
    "        # print('!!! {} -> {}'.format(row_idx, ticket))\n",
    "        ticket_numbers.append(None)\n",
    "        continue\n",
    "    ticket_numbers.append(int(match.group('number')[::-1]))\n",
    "    \n",
    "    add_info_match = match.group('add_info')\n",
    "    if add_info_match:\n",
    "        ticket_additional_infos.add(add_info_match[::-1])\n",
    "\n",
    "# for add_info in sorted(ticket_additional_infos):\n",
    "#     print(add_info)\n",
    "\n",
    "# for ticket_num in sorted(ticket_numbers):\n",
    "#     print(ticket_num)\n",
    "\n",
    "# rows = [179, 271, 302, 597]\n",
    "# dataset_df.iloc[rows]\n",
    "\n",
    "dataset_df = dataset_df.assign(TicketNumber=ticket_numbers)\n",
    "dataset_df.head()"
   ]
  },
  {
   "cell_type": "code",
   "execution_count": null,
   "metadata": {},
   "outputs": [],
   "source": [
    "# Extract the floor from the cabin number.\n",
    "\n",
    "cabin_full_template = r'^([A-Z] )?([A-Z]\\d+\\s?)+$'\n",
    "cabin_full_pattern = re.compile(cabin_full_template)\n",
    "\n",
    "cabin_template = r'(?P<floor>[A-Z])\\d+\\s?'\n",
    "cabin_pattern = re.compile(cabin_template)\n",
    "\n",
    "floors = []\n",
    "for cabin in dataset_df['Cabin']:\n",
    "    if cabin != cabin:\n",
    "        # NaN value\n",
    "        floors.append(None)\n",
    "        continue\n",
    "    \n",
    "    # Check if the cabin format is atypical.\n",
    "    if not cabin_full_pattern.match(cabin):\n",
    "        # print(cabin)\n",
    "        floors.append(None)\n",
    "        continue\n",
    "    \n",
    "    # If you get here the cabin field is in the form:\n",
    "    #  A123\n",
    "    #  or: A123 B456 C78\n",
    "    #  or: Q A123 B456 C78\n",
    "    \n",
    "    cabin_floors = {\n",
    "        match.group('floor')\n",
    "        for match in cabin_pattern.finditer(cabin)\n",
    "    }\n",
    "    \n",
    "    if len(cabin_floors) != 1:\n",
    "        # print(cabin)\n",
    "        floors.append(None)\n",
    "        continue\n",
    "    \n",
    "    floors.append(cabin_floors.pop())\n",
    "\n",
    "dataset_df['Floor'] = pd.Categorical(floors, categories=filter(None, set(floors)), ordered=False)\n",
    "\n",
    "print('Attributes:')\n",
    "print('\\n'.join('{}: {}'.format(n, t) for n, t in zip(dataset_df.keys(), dataset_df.dtypes)))\n",
    "dataset_df.head()"
   ]
  },
  {
   "cell_type": "markdown",
   "metadata": {},
   "source": [
    "Drop the non-numerical columns."
   ]
  },
  {
   "cell_type": "code",
   "execution_count": null,
   "metadata": {},
   "outputs": [],
   "source": [
    "non_numerical_columns = ['Name', 'Ticket', 'Cabin']\n",
    "dataset_df.drop(columns=non_numerical_columns, inplace=True)\n",
    "\n",
    "print('Attributes:')\n",
    "print('\\n'.join('{}: {}'.format(n, t) for n, t in zip(dataset_df.keys(), dataset_df.dtypes)))\n",
    "dataset_df.head()"
   ]
  }
 ],
 "metadata": {
  "kernelspec": {
   "display_name": "Python 3",
   "language": "python",
   "name": "python3"
  },
  "language_info": {
   "codemirror_mode": {
    "name": "ipython",
    "version": 3
   },
   "file_extension": ".py",
   "mimetype": "text/x-python",
   "name": "python",
   "nbconvert_exporter": "python",
   "pygments_lexer": "ipython3",
   "version": "3.5.2"
  }
 },
 "nbformat": 4,
 "nbformat_minor": 4
}
