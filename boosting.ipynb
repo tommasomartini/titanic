{
 "cells": [
  {
   "cell_type": "markdown",
   "metadata": {},
   "source": [
    "# Boosting\n",
    "Use AdaBoost to solve the challenge."
   ]
  },
  {
   "cell_type": "code",
   "execution_count": null,
   "metadata": {},
   "outputs": [],
   "source": [
    "import dataset as ds\n",
    "\n",
    "train_df, eval_df = ds.get_formatted_splits()\n",
    "train_df.dtypes\n",
    "# train_df.head()"
   ]
  },
  {
   "cell_type": "code",
   "execution_count": null,
   "metadata": {},
   "outputs": [],
   "source": [
    "attributes = [\n",
    "    'Pclass',\n",
    "    'Sex',\n",
    "    'Age',\n",
    "    'SibSp',\n",
    "    'Parch',\n",
    "    'Fare',\n",
    "    'Embarked',\n",
    "    'Title',\n",
    "    'TicketNumber',\n",
    "    'Floor',\n",
    "]\n",
    "\n",
    "categorical_columns = train_df.select_dtypes('category').columns\n",
    "train_df[categorical_columns] = train_df[categorical_columns].apply(lambda x: x.cat.codes)\n",
    "eval_df[categorical_columns] = eval_df[categorical_columns].apply(lambda x: x.cat.codes)\n",
    "\n",
    "print(train_df.shape)\n",
    "train_df[attributes].describe()"
   ]
  },
  {
   "cell_type": "code",
   "execution_count": null,
   "metadata": {},
   "outputs": [],
   "source": [
    "from sklearn.ensemble import AdaBoostClassifier\n",
    "from sklearn.tree import DecisionTreeClassifier\n",
    "\n",
    "dtc_args = dict(\n",
    "    criterion = 'gini',\n",
    "    max_depth = 1,\n",
    ")\n",
    "\n",
    "adab_args = dict(\n",
    "    base_estimator = DecisionTreeClassifier(**dtc_args),\n",
    "    n_estimators = 100,\n",
    "    random_state = 0,\n",
    ")\n",
    "ada = AdaBoostClassifier(**adab_args).fit(train_df[attributes], train_df['Survived'])\n",
    "accuracy = ada.score(eval_df[attributes], eval_df['Survived'])\n",
    "\n",
    "print('Accuracy: {}'.format(accuracy))"
   ]
  }
 ],
 "metadata": {
  "kernelspec": {
   "display_name": "Python 3",
   "language": "python",
   "name": "python3"
  },
  "language_info": {
   "codemirror_mode": {
    "name": "ipython",
    "version": 3
   },
   "file_extension": ".py",
   "mimetype": "text/x-python",
   "name": "python",
   "nbconvert_exporter": "python",
   "pygments_lexer": "ipython3",
   "version": "3.5.2"
  }
 },
 "nbformat": 4,
 "nbformat_minor": 4
}
