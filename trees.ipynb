{
 "cells": [
  {
   "cell_type": "markdown",
   "metadata": {},
   "source": [
    "# Trees\n",
    "Use decision trees to solve the challenge."
   ]
  },
  {
   "cell_type": "code",
   "execution_count": 25,
   "metadata": {},
   "outputs": [
    {
     "data": {
      "text/html": [
       "<div>\n",
       "<style scoped>\n",
       "    .dataframe tbody tr th:only-of-type {\n",
       "        vertical-align: middle;\n",
       "    }\n",
       "\n",
       "    .dataframe tbody tr th {\n",
       "        vertical-align: top;\n",
       "    }\n",
       "\n",
       "    .dataframe thead th {\n",
       "        text-align: right;\n",
       "    }\n",
       "</style>\n",
       "<table border=\"1\" class=\"dataframe\">\n",
       "  <thead>\n",
       "    <tr style=\"text-align: right;\">\n",
       "      <th></th>\n",
       "      <th>PassengerId</th>\n",
       "      <th>Survived</th>\n",
       "      <th>Pclass</th>\n",
       "      <th>Sex</th>\n",
       "      <th>Age</th>\n",
       "      <th>SibSp</th>\n",
       "      <th>Parch</th>\n",
       "      <th>Fare</th>\n",
       "      <th>Embarked</th>\n",
       "      <th>Title</th>\n",
       "      <th>TicketNumber</th>\n",
       "      <th>Floor</th>\n",
       "    </tr>\n",
       "  </thead>\n",
       "  <tbody>\n",
       "    <tr>\n",
       "      <th>857</th>\n",
       "      <td>858</td>\n",
       "      <td>1</td>\n",
       "      <td>1</td>\n",
       "      <td>male</td>\n",
       "      <td>51.0</td>\n",
       "      <td>0</td>\n",
       "      <td>0</td>\n",
       "      <td>26.5500</td>\n",
       "      <td>S</td>\n",
       "      <td>Mr</td>\n",
       "      <td>113055.0</td>\n",
       "      <td>E</td>\n",
       "    </tr>\n",
       "    <tr>\n",
       "      <th>52</th>\n",
       "      <td>53</td>\n",
       "      <td>1</td>\n",
       "      <td>1</td>\n",
       "      <td>female</td>\n",
       "      <td>49.0</td>\n",
       "      <td>1</td>\n",
       "      <td>0</td>\n",
       "      <td>76.7292</td>\n",
       "      <td>C</td>\n",
       "      <td>Mrs</td>\n",
       "      <td>17572.0</td>\n",
       "      <td>D</td>\n",
       "    </tr>\n",
       "    <tr>\n",
       "      <th>386</th>\n",
       "      <td>387</td>\n",
       "      <td>0</td>\n",
       "      <td>3</td>\n",
       "      <td>male</td>\n",
       "      <td>1.0</td>\n",
       "      <td>5</td>\n",
       "      <td>2</td>\n",
       "      <td>46.9000</td>\n",
       "      <td>S</td>\n",
       "      <td>Master</td>\n",
       "      <td>2144.0</td>\n",
       "      <td>Unknown</td>\n",
       "    </tr>\n",
       "    <tr>\n",
       "      <th>124</th>\n",
       "      <td>125</td>\n",
       "      <td>0</td>\n",
       "      <td>1</td>\n",
       "      <td>male</td>\n",
       "      <td>54.0</td>\n",
       "      <td>0</td>\n",
       "      <td>1</td>\n",
       "      <td>77.2875</td>\n",
       "      <td>S</td>\n",
       "      <td>Mr</td>\n",
       "      <td>35281.0</td>\n",
       "      <td>D</td>\n",
       "    </tr>\n",
       "    <tr>\n",
       "      <th>578</th>\n",
       "      <td>579</td>\n",
       "      <td>0</td>\n",
       "      <td>3</td>\n",
       "      <td>female</td>\n",
       "      <td>NaN</td>\n",
       "      <td>1</td>\n",
       "      <td>0</td>\n",
       "      <td>14.4583</td>\n",
       "      <td>C</td>\n",
       "      <td>Mrs</td>\n",
       "      <td>2689.0</td>\n",
       "      <td>Unknown</td>\n",
       "    </tr>\n",
       "  </tbody>\n",
       "</table>\n",
       "</div>"
      ],
      "text/plain": [
       "     PassengerId  Survived Pclass     Sex   Age  SibSp  Parch     Fare  \\\n",
       "857          858         1      1    male  51.0      0      0  26.5500   \n",
       "52            53         1      1  female  49.0      1      0  76.7292   \n",
       "386          387         0      3    male   1.0      5      2  46.9000   \n",
       "124          125         0      1    male  54.0      0      1  77.2875   \n",
       "578          579         0      3  female   NaN      1      0  14.4583   \n",
       "\n",
       "    Embarked   Title  TicketNumber    Floor  \n",
       "857        S      Mr      113055.0        E  \n",
       "52         C     Mrs       17572.0        D  \n",
       "386        S  Master        2144.0  Unknown  \n",
       "124        S      Mr       35281.0        D  \n",
       "578        C     Mrs        2689.0  Unknown  "
      ]
     },
     "execution_count": 25,
     "metadata": {},
     "output_type": "execute_result"
    }
   ],
   "source": [
    "import dataset as ds\n",
    "\n",
    "train_df, eval_df = ds.get_formatted_splits()\n",
    "train_df.dtypes\n",
    "train_df.head()"
   ]
  },
  {
   "cell_type": "markdown",
   "metadata": {},
   "source": [
    "## Approach 1: likelihood on gender\n",
    "Let's try something naive: predict the probability of surviving given a binary variable like gender."
   ]
  },
  {
   "cell_type": "code",
   "execution_count": 13,
   "metadata": {},
   "outputs": [],
   "source": [
    "def get_prob_of_surviving_based_on_gender(df):\n",
    "    prob_survival_on_gender = df.dropna(subset=['Sex'], inplace=False).groupby('Sex').agg({'Survived': ['mean', 'count']}).rename(columns={'mean': 'Prob_surviving', 'count': 'Total'})\n",
    "    prob_survival_on_gender.columns = prob_survival_on_gender.columns.droplevel(0)\n",
    "    prob_survival_on_gender = prob_survival_on_gender.assign(Fraction=prob_survival_on_gender['Total'] / prob_survival_on_gender['Total'].sum())\n",
    "    return prob_survival_on_gender"
   ]
  },
  {
   "cell_type": "code",
   "execution_count": 14,
   "metadata": {},
   "outputs": [
    {
     "data": {
      "text/html": [
       "<div>\n",
       "<style scoped>\n",
       "    .dataframe tbody tr th:only-of-type {\n",
       "        vertical-align: middle;\n",
       "    }\n",
       "\n",
       "    .dataframe tbody tr th {\n",
       "        vertical-align: top;\n",
       "    }\n",
       "\n",
       "    .dataframe thead th {\n",
       "        text-align: right;\n",
       "    }\n",
       "</style>\n",
       "<table border=\"1\" class=\"dataframe\">\n",
       "  <thead>\n",
       "    <tr style=\"text-align: right;\">\n",
       "      <th></th>\n",
       "      <th>Prob_surviving</th>\n",
       "      <th>Total</th>\n",
       "      <th>Fraction</th>\n",
       "    </tr>\n",
       "    <tr>\n",
       "      <th>Sex</th>\n",
       "      <th></th>\n",
       "      <th></th>\n",
       "      <th></th>\n",
       "    </tr>\n",
       "  </thead>\n",
       "  <tbody>\n",
       "    <tr>\n",
       "      <th>male</th>\n",
       "      <td>0.196078</td>\n",
       "      <td>408</td>\n",
       "      <td>0.654896</td>\n",
       "    </tr>\n",
       "    <tr>\n",
       "      <th>female</th>\n",
       "      <td>0.753488</td>\n",
       "      <td>215</td>\n",
       "      <td>0.345104</td>\n",
       "    </tr>\n",
       "  </tbody>\n",
       "</table>\n",
       "</div>"
      ],
      "text/plain": [
       "        Prob_surviving  Total  Fraction\n",
       "Sex                                    \n",
       "male          0.196078    408  0.654896\n",
       "female        0.753488    215  0.345104"
      ]
     },
     "execution_count": 14,
     "metadata": {},
     "output_type": "execute_result"
    }
   ],
   "source": [
    "prob_survival_on_gender_train = get_prob_of_surviving_based_on_gender(train_df)\n",
    "prob_survival_on_gender_train"
   ]
  },
  {
   "cell_type": "markdown",
   "metadata": {},
   "source": [
    "Let's try to apply these probabilities to the evaluation data: if the probability t survive is higher than 0.5, then we classify that passenger as \"survived\"."
   ]
  },
  {
   "cell_type": "code",
   "execution_count": 15,
   "metadata": {},
   "outputs": [
    {
     "data": {
      "text/html": [
       "<div>\n",
       "<style scoped>\n",
       "    .dataframe tbody tr th:only-of-type {\n",
       "        vertical-align: middle;\n",
       "    }\n",
       "\n",
       "    .dataframe tbody tr th {\n",
       "        vertical-align: top;\n",
       "    }\n",
       "\n",
       "    .dataframe thead th {\n",
       "        text-align: right;\n",
       "    }\n",
       "</style>\n",
       "<table border=\"1\" class=\"dataframe\">\n",
       "  <thead>\n",
       "    <tr style=\"text-align: right;\">\n",
       "      <th></th>\n",
       "      <th>Prob_surviving</th>\n",
       "      <th>Total</th>\n",
       "      <th>Fraction</th>\n",
       "      <th>Prediction</th>\n",
       "    </tr>\n",
       "    <tr>\n",
       "      <th>Sex</th>\n",
       "      <th></th>\n",
       "      <th></th>\n",
       "      <th></th>\n",
       "      <th></th>\n",
       "    </tr>\n",
       "  </thead>\n",
       "  <tbody>\n",
       "    <tr>\n",
       "      <th>male</th>\n",
       "      <td>0.196078</td>\n",
       "      <td>408</td>\n",
       "      <td>0.654896</td>\n",
       "      <td>False</td>\n",
       "    </tr>\n",
       "    <tr>\n",
       "      <th>female</th>\n",
       "      <td>0.753488</td>\n",
       "      <td>215</td>\n",
       "      <td>0.345104</td>\n",
       "      <td>True</td>\n",
       "    </tr>\n",
       "  </tbody>\n",
       "</table>\n",
       "</div>"
      ],
      "text/plain": [
       "        Prob_surviving  Total  Fraction  Prediction\n",
       "Sex                                                \n",
       "male          0.196078    408  0.654896       False\n",
       "female        0.753488    215  0.345104        True"
      ]
     },
     "execution_count": 15,
     "metadata": {},
     "output_type": "execute_result"
    }
   ],
   "source": [
    "prob_survival_on_gender_train['Prediction'] = prob_survival_on_gender_train['Prob_surviving'] > 0.5\n",
    "prob_survival_on_gender_train"
   ]
  },
  {
   "cell_type": "code",
   "execution_count": 16,
   "metadata": {},
   "outputs": [
    {
     "name": "stdout",
     "output_type": "stream",
     "text": [
      "Accuracy on training set: 0.7865168539325843\n",
      "Accuracy on evaluation set: 0.7873134328358209\n"
     ]
    }
   ],
   "source": [
    "def evaluate_gender_likelihood_on_set(df):\n",
    "    predictions = df['Sex'].apply(lambda gender: prob_survival_on_gender_train.loc[gender]['Prediction'])\n",
    "    accuracy = (predictions == df['Survived']).mean()\n",
    "    return accuracy\n",
    "\n",
    "train_accuracy = evaluate_gender_likelihood_on_set(train_df)\n",
    "print('Accuracy on training set: {}'.format(train_accuracy))\n",
    "\n",
    "eval_accuracy = evaluate_gender_likelihood_on_set(eval_df)\n",
    "print('Accuracy on evaluation set: {}'.format(eval_accuracy))"
   ]
  },
  {
   "cell_type": "markdown",
   "metadata": {},
   "source": [
    "## Approach 2: decision tree on gender\n",
    "Just to double check: we should get the same results as approach 1."
   ]
  },
  {
   "cell_type": "code",
   "execution_count": 17,
   "metadata": {},
   "outputs": [
    {
     "name": "stdout",
     "output_type": "stream",
     "text": [
      "Accuracy: 0.7873134328358209\n"
     ]
    }
   ],
   "source": [
    "from sklearn.preprocessing import LabelEncoder\n",
    "from sklearn.tree import DecisionTreeClassifier\n",
    "\n",
    "gender_encoder = LabelEncoder().fit(train_df['Sex'])\n",
    "tree_classifier = DecisionTreeClassifier().fit(gender_encoder.transform(train_df['Sex']).reshape(-1, 1), train_df['Survived'])\n",
    "\n",
    "accuracy = tree_classifier.score(gender_encoder.transform(eval_df['Sex']).reshape(-1, 1), eval_df['Survived'])\n",
    "print('Accuracy: {}'.format(accuracy))"
   ]
  },
  {
   "cell_type": "markdown",
   "metadata": {},
   "source": [
    "## Approach 3: decision tree on single features\n",
    "This cannot possibly be better than combining all the attributes, but I am curious to see which one is more significant."
   ]
  },
  {
   "cell_type": "code",
   "execution_count": 18,
   "metadata": {},
   "outputs": [
    {
     "name": "stdout",
     "output_type": "stream",
     "text": [
      "Accuracy on Sex: 0.7873134328358209\n",
      "Accuracy on Pclass: 0.6940298507462687\n",
      "Accuracy on Embarked: 0.6417910447761194\n",
      "Accuracy on Title: 0.7910447761194029\n",
      "Accuracy on Floor: 0.7126865671641791\n"
     ]
    }
   ],
   "source": [
    "def tree_classification_on_attribute(attribute_name):\n",
    "    label_encoder = LabelEncoder().fit(train_df[attribute_name].dtype.categories)\n",
    "    encoded_attributes = label_encoder.transform(train_df[attribute_name])\n",
    "    dtc = DecisionTreeClassifier().fit(encoded_attributes.reshape(-1, 1), train_df['Survived'])\n",
    "    acc = dtc.score(label_encoder.transform(eval_df[attribute_name]).reshape(-1, 1), eval_df['Survived'])\n",
    "    return acc\n",
    "\n",
    "# Try on categorical attributes first.\n",
    "categorical_columns = ['Sex', 'Pclass', 'Embarked', 'Title', 'Floor']\n",
    "for attribute_name in categorical_columns:\n",
    "    print('Accuracy on {}: {}'.format(attribute_name, tree_classification_on_attribute(attribute_name)))"
   ]
  },
  {
   "cell_type": "markdown",
   "metadata": {},
   "source": [
    "## Approach 4: tree combining the categorical attributes"
   ]
  },
  {
   "cell_type": "code",
   "execution_count": 27,
   "metadata": {},
   "outputs": [],
   "source": [
    "# DecisionTreeClassifier cannot handle categorical data, so we need to turn all the categorical columns to numerical.\n",
    "dtc = DecisionTreeClassifier().fit(train_df[categorical_columns].apply(lambda x: x.cat.codes), train_df['Survived'])\n",
    "acc = dtc.score(eval_df[categorical_columns].apply(lambda x: x.cat.codes), eval_df['Survived'])\n",
    "print('Accuracy combining categorical attributes: {}'.format(acc))"
   ]
  },
  {
   "cell_type": "code",
   "execution_count": 46,
   "metadata": {},
   "outputs": [
    {
     "data": {
      "text/html": [
       "\n",
       "    <div class=\"bk-root\">\n",
       "        <a href=\"https://bokeh.org\" target=\"_blank\" class=\"bk-logo bk-logo-small bk-logo-notebook\"></a>\n",
       "        <span id=\"4788\">Loading BokehJS ...</span>\n",
       "    </div>"
      ]
     },
     "metadata": {},
     "output_type": "display_data"
    },
    {
     "data": {
      "application/javascript": [
       "\n",
       "(function(root) {\n",
       "  function now() {\n",
       "    return new Date();\n",
       "  }\n",
       "\n",
       "  var force = true;\n",
       "\n",
       "  if (typeof root._bokeh_onload_callbacks === \"undefined\" || force === true) {\n",
       "    root._bokeh_onload_callbacks = [];\n",
       "    root._bokeh_is_loading = undefined;\n",
       "  }\n",
       "\n",
       "  var JS_MIME_TYPE = 'application/javascript';\n",
       "  var HTML_MIME_TYPE = 'text/html';\n",
       "  var EXEC_MIME_TYPE = 'application/vnd.bokehjs_exec.v0+json';\n",
       "  var CLASS_NAME = 'output_bokeh rendered_html';\n",
       "\n",
       "  /**\n",
       "   * Render data to the DOM node\n",
       "   */\n",
       "  function render(props, node) {\n",
       "    var script = document.createElement(\"script\");\n",
       "    node.appendChild(script);\n",
       "  }\n",
       "\n",
       "  /**\n",
       "   * Handle when an output is cleared or removed\n",
       "   */\n",
       "  function handleClearOutput(event, handle) {\n",
       "    var cell = handle.cell;\n",
       "\n",
       "    var id = cell.output_area._bokeh_element_id;\n",
       "    var server_id = cell.output_area._bokeh_server_id;\n",
       "    // Clean up Bokeh references\n",
       "    if (id != null && id in Bokeh.index) {\n",
       "      Bokeh.index[id].model.document.clear();\n",
       "      delete Bokeh.index[id];\n",
       "    }\n",
       "\n",
       "    if (server_id !== undefined) {\n",
       "      // Clean up Bokeh references\n",
       "      var cmd = \"from bokeh.io.state import curstate; print(curstate().uuid_to_server['\" + server_id + \"'].get_sessions()[0].document.roots[0]._id)\";\n",
       "      cell.notebook.kernel.execute(cmd, {\n",
       "        iopub: {\n",
       "          output: function(msg) {\n",
       "            var id = msg.content.text.trim();\n",
       "            if (id in Bokeh.index) {\n",
       "              Bokeh.index[id].model.document.clear();\n",
       "              delete Bokeh.index[id];\n",
       "            }\n",
       "          }\n",
       "        }\n",
       "      });\n",
       "      // Destroy server and session\n",
       "      var cmd = \"import bokeh.io.notebook as ion; ion.destroy_server('\" + server_id + \"')\";\n",
       "      cell.notebook.kernel.execute(cmd);\n",
       "    }\n",
       "  }\n",
       "\n",
       "  /**\n",
       "   * Handle when a new output is added\n",
       "   */\n",
       "  function handleAddOutput(event, handle) {\n",
       "    var output_area = handle.output_area;\n",
       "    var output = handle.output;\n",
       "\n",
       "    // limit handleAddOutput to display_data with EXEC_MIME_TYPE content only\n",
       "    if ((output.output_type != \"display_data\") || (!output.data.hasOwnProperty(EXEC_MIME_TYPE))) {\n",
       "      return\n",
       "    }\n",
       "\n",
       "    var toinsert = output_area.element.find(\".\" + CLASS_NAME.split(' ')[0]);\n",
       "\n",
       "    if (output.metadata[EXEC_MIME_TYPE][\"id\"] !== undefined) {\n",
       "      toinsert[toinsert.length - 1].firstChild.textContent = output.data[JS_MIME_TYPE];\n",
       "      // store reference to embed id on output_area\n",
       "      output_area._bokeh_element_id = output.metadata[EXEC_MIME_TYPE][\"id\"];\n",
       "    }\n",
       "    if (output.metadata[EXEC_MIME_TYPE][\"server_id\"] !== undefined) {\n",
       "      var bk_div = document.createElement(\"div\");\n",
       "      bk_div.innerHTML = output.data[HTML_MIME_TYPE];\n",
       "      var script_attrs = bk_div.children[0].attributes;\n",
       "      for (var i = 0; i < script_attrs.length; i++) {\n",
       "        toinsert[toinsert.length - 1].firstChild.setAttribute(script_attrs[i].name, script_attrs[i].value);\n",
       "      }\n",
       "      // store reference to server id on output_area\n",
       "      output_area._bokeh_server_id = output.metadata[EXEC_MIME_TYPE][\"server_id\"];\n",
       "    }\n",
       "  }\n",
       "\n",
       "  function register_renderer(events, OutputArea) {\n",
       "\n",
       "    function append_mime(data, metadata, element) {\n",
       "      // create a DOM node to render to\n",
       "      var toinsert = this.create_output_subarea(\n",
       "        metadata,\n",
       "        CLASS_NAME,\n",
       "        EXEC_MIME_TYPE\n",
       "      );\n",
       "      this.keyboard_manager.register_events(toinsert);\n",
       "      // Render to node\n",
       "      var props = {data: data, metadata: metadata[EXEC_MIME_TYPE]};\n",
       "      render(props, toinsert[toinsert.length - 1]);\n",
       "      element.append(toinsert);\n",
       "      return toinsert\n",
       "    }\n",
       "\n",
       "    /* Handle when an output is cleared or removed */\n",
       "    events.on('clear_output.CodeCell', handleClearOutput);\n",
       "    events.on('delete.Cell', handleClearOutput);\n",
       "\n",
       "    /* Handle when a new output is added */\n",
       "    events.on('output_added.OutputArea', handleAddOutput);\n",
       "\n",
       "    /**\n",
       "     * Register the mime type and append_mime function with output_area\n",
       "     */\n",
       "    OutputArea.prototype.register_mime_type(EXEC_MIME_TYPE, append_mime, {\n",
       "      /* Is output safe? */\n",
       "      safe: true,\n",
       "      /* Index of renderer in `output_area.display_order` */\n",
       "      index: 0\n",
       "    });\n",
       "  }\n",
       "\n",
       "  // register the mime type if in Jupyter Notebook environment and previously unregistered\n",
       "  if (root.Jupyter !== undefined) {\n",
       "    var events = require('base/js/events');\n",
       "    var OutputArea = require('notebook/js/outputarea').OutputArea;\n",
       "\n",
       "    if (OutputArea.prototype.mime_types().indexOf(EXEC_MIME_TYPE) == -1) {\n",
       "      register_renderer(events, OutputArea);\n",
       "    }\n",
       "  }\n",
       "\n",
       "  \n",
       "  if (typeof (root._bokeh_timeout) === \"undefined\" || force === true) {\n",
       "    root._bokeh_timeout = Date.now() + 5000;\n",
       "    root._bokeh_failed_load = false;\n",
       "  }\n",
       "\n",
       "  var NB_LOAD_WARNING = {'data': {'text/html':\n",
       "     \"<div style='background-color: #fdd'>\\n\"+\n",
       "     \"<p>\\n\"+\n",
       "     \"BokehJS does not appear to have successfully loaded. If loading BokehJS from CDN, this \\n\"+\n",
       "     \"may be due to a slow or bad network connection. Possible fixes:\\n\"+\n",
       "     \"</p>\\n\"+\n",
       "     \"<ul>\\n\"+\n",
       "     \"<li>re-rerun `output_notebook()` to attempt to load from CDN again, or</li>\\n\"+\n",
       "     \"<li>use INLINE resources instead, as so:</li>\\n\"+\n",
       "     \"</ul>\\n\"+\n",
       "     \"<code>\\n\"+\n",
       "     \"from bokeh.resources import INLINE\\n\"+\n",
       "     \"output_notebook(resources=INLINE)\\n\"+\n",
       "     \"</code>\\n\"+\n",
       "     \"</div>\"}};\n",
       "\n",
       "  function display_loaded() {\n",
       "    var el = document.getElementById(\"4788\");\n",
       "    if (el != null) {\n",
       "      el.textContent = \"BokehJS is loading...\";\n",
       "    }\n",
       "    if (root.Bokeh !== undefined) {\n",
       "      if (el != null) {\n",
       "        el.textContent = \"BokehJS \" + root.Bokeh.version + \" successfully loaded.\";\n",
       "      }\n",
       "    } else if (Date.now() < root._bokeh_timeout) {\n",
       "      setTimeout(display_loaded, 100)\n",
       "    }\n",
       "  }\n",
       "\n",
       "\n",
       "  function run_callbacks() {\n",
       "    try {\n",
       "      root._bokeh_onload_callbacks.forEach(function(callback) {\n",
       "        if (callback != null)\n",
       "          callback();\n",
       "      });\n",
       "    } finally {\n",
       "      delete root._bokeh_onload_callbacks\n",
       "    }\n",
       "    console.debug(\"Bokeh: all callbacks have finished\");\n",
       "  }\n",
       "\n",
       "  function load_libs(css_urls, js_urls, callback) {\n",
       "    if (css_urls == null) css_urls = [];\n",
       "    if (js_urls == null) js_urls = [];\n",
       "\n",
       "    root._bokeh_onload_callbacks.push(callback);\n",
       "    if (root._bokeh_is_loading > 0) {\n",
       "      console.debug(\"Bokeh: BokehJS is being loaded, scheduling callback at\", now());\n",
       "      return null;\n",
       "    }\n",
       "    if (js_urls == null || js_urls.length === 0) {\n",
       "      run_callbacks();\n",
       "      return null;\n",
       "    }\n",
       "    console.debug(\"Bokeh: BokehJS not loaded, scheduling load and callback at\", now());\n",
       "    root._bokeh_is_loading = css_urls.length + js_urls.length;\n",
       "\n",
       "    function on_load() {\n",
       "      root._bokeh_is_loading--;\n",
       "      if (root._bokeh_is_loading === 0) {\n",
       "        console.debug(\"Bokeh: all BokehJS libraries/stylesheets loaded\");\n",
       "        run_callbacks()\n",
       "      }\n",
       "    }\n",
       "\n",
       "    function on_error() {\n",
       "      console.error(\"failed to load \" + url);\n",
       "    }\n",
       "\n",
       "    for (var i = 0; i < css_urls.length; i++) {\n",
       "      var url = css_urls[i];\n",
       "      const element = document.createElement(\"link\");\n",
       "      element.onload = on_load;\n",
       "      element.onerror = on_error;\n",
       "      element.rel = \"stylesheet\";\n",
       "      element.type = \"text/css\";\n",
       "      element.href = url;\n",
       "      console.debug(\"Bokeh: injecting link tag for BokehJS stylesheet: \", url);\n",
       "      document.body.appendChild(element);\n",
       "    }\n",
       "\n",
       "    for (var i = 0; i < js_urls.length; i++) {\n",
       "      var url = js_urls[i];\n",
       "      var element = document.createElement('script');\n",
       "      element.onload = on_load;\n",
       "      element.onerror = on_error;\n",
       "      element.async = false;\n",
       "      element.src = url;\n",
       "      console.debug(\"Bokeh: injecting script tag for BokehJS library: \", url);\n",
       "      document.head.appendChild(element);\n",
       "    }\n",
       "  };var element = document.getElementById(\"4788\");\n",
       "  if (element == null) {\n",
       "    console.error(\"Bokeh: ERROR: autoload.js configured with elementid '4788' but no matching script tag was found. \")\n",
       "    return false;\n",
       "  }\n",
       "\n",
       "  function inject_raw_css(css) {\n",
       "    const element = document.createElement(\"style\");\n",
       "    element.appendChild(document.createTextNode(css));\n",
       "    document.body.appendChild(element);\n",
       "  }\n",
       "\n",
       "  \n",
       "  var js_urls = [\"https://cdn.pydata.org/bokeh/release/bokeh-1.4.0.min.js\", \"https://cdn.pydata.org/bokeh/release/bokeh-widgets-1.4.0.min.js\", \"https://cdn.pydata.org/bokeh/release/bokeh-tables-1.4.0.min.js\", \"https://cdn.pydata.org/bokeh/release/bokeh-gl-1.4.0.min.js\"];\n",
       "  var css_urls = [];\n",
       "  \n",
       "\n",
       "  var inline_js = [\n",
       "    function(Bokeh) {\n",
       "      Bokeh.set_log_level(\"info\");\n",
       "    },\n",
       "    function(Bokeh) {\n",
       "    \n",
       "    \n",
       "    }\n",
       "  ];\n",
       "\n",
       "  function run_inline_js() {\n",
       "    \n",
       "    if (root.Bokeh !== undefined || force === true) {\n",
       "      \n",
       "    for (var i = 0; i < inline_js.length; i++) {\n",
       "      inline_js[i].call(root, root.Bokeh);\n",
       "    }\n",
       "    if (force === true) {\n",
       "        display_loaded();\n",
       "      }} else if (Date.now() < root._bokeh_timeout) {\n",
       "      setTimeout(run_inline_js, 100);\n",
       "    } else if (!root._bokeh_failed_load) {\n",
       "      console.log(\"Bokeh: BokehJS failed to load within specified timeout.\");\n",
       "      root._bokeh_failed_load = true;\n",
       "    } else if (force !== true) {\n",
       "      var cell = $(document.getElementById(\"4788\")).parents('.cell').data().cell;\n",
       "      cell.output_area.append_execute_result(NB_LOAD_WARNING)\n",
       "    }\n",
       "\n",
       "  }\n",
       "\n",
       "  if (root._bokeh_is_loading === 0) {\n",
       "    console.debug(\"Bokeh: BokehJS loaded, going straight to plotting\");\n",
       "    run_inline_js();\n",
       "  } else {\n",
       "    load_libs(css_urls, js_urls, function() {\n",
       "      console.debug(\"Bokeh: BokehJS plotting callback run at\", now());\n",
       "      run_inline_js();\n",
       "    });\n",
       "  }\n",
       "}(window));"
      ],
      "application/vnd.bokehjs_load.v0+json": "\n(function(root) {\n  function now() {\n    return new Date();\n  }\n\n  var force = true;\n\n  if (typeof root._bokeh_onload_callbacks === \"undefined\" || force === true) {\n    root._bokeh_onload_callbacks = [];\n    root._bokeh_is_loading = undefined;\n  }\n\n  \n\n  \n  if (typeof (root._bokeh_timeout) === \"undefined\" || force === true) {\n    root._bokeh_timeout = Date.now() + 5000;\n    root._bokeh_failed_load = false;\n  }\n\n  var NB_LOAD_WARNING = {'data': {'text/html':\n     \"<div style='background-color: #fdd'>\\n\"+\n     \"<p>\\n\"+\n     \"BokehJS does not appear to have successfully loaded. If loading BokehJS from CDN, this \\n\"+\n     \"may be due to a slow or bad network connection. Possible fixes:\\n\"+\n     \"</p>\\n\"+\n     \"<ul>\\n\"+\n     \"<li>re-rerun `output_notebook()` to attempt to load from CDN again, or</li>\\n\"+\n     \"<li>use INLINE resources instead, as so:</li>\\n\"+\n     \"</ul>\\n\"+\n     \"<code>\\n\"+\n     \"from bokeh.resources import INLINE\\n\"+\n     \"output_notebook(resources=INLINE)\\n\"+\n     \"</code>\\n\"+\n     \"</div>\"}};\n\n  function display_loaded() {\n    var el = document.getElementById(\"4788\");\n    if (el != null) {\n      el.textContent = \"BokehJS is loading...\";\n    }\n    if (root.Bokeh !== undefined) {\n      if (el != null) {\n        el.textContent = \"BokehJS \" + root.Bokeh.version + \" successfully loaded.\";\n      }\n    } else if (Date.now() < root._bokeh_timeout) {\n      setTimeout(display_loaded, 100)\n    }\n  }\n\n\n  function run_callbacks() {\n    try {\n      root._bokeh_onload_callbacks.forEach(function(callback) {\n        if (callback != null)\n          callback();\n      });\n    } finally {\n      delete root._bokeh_onload_callbacks\n    }\n    console.debug(\"Bokeh: all callbacks have finished\");\n  }\n\n  function load_libs(css_urls, js_urls, callback) {\n    if (css_urls == null) css_urls = [];\n    if (js_urls == null) js_urls = [];\n\n    root._bokeh_onload_callbacks.push(callback);\n    if (root._bokeh_is_loading > 0) {\n      console.debug(\"Bokeh: BokehJS is being loaded, scheduling callback at\", now());\n      return null;\n    }\n    if (js_urls == null || js_urls.length === 0) {\n      run_callbacks();\n      return null;\n    }\n    console.debug(\"Bokeh: BokehJS not loaded, scheduling load and callback at\", now());\n    root._bokeh_is_loading = css_urls.length + js_urls.length;\n\n    function on_load() {\n      root._bokeh_is_loading--;\n      if (root._bokeh_is_loading === 0) {\n        console.debug(\"Bokeh: all BokehJS libraries/stylesheets loaded\");\n        run_callbacks()\n      }\n    }\n\n    function on_error() {\n      console.error(\"failed to load \" + url);\n    }\n\n    for (var i = 0; i < css_urls.length; i++) {\n      var url = css_urls[i];\n      const element = document.createElement(\"link\");\n      element.onload = on_load;\n      element.onerror = on_error;\n      element.rel = \"stylesheet\";\n      element.type = \"text/css\";\n      element.href = url;\n      console.debug(\"Bokeh: injecting link tag for BokehJS stylesheet: \", url);\n      document.body.appendChild(element);\n    }\n\n    for (var i = 0; i < js_urls.length; i++) {\n      var url = js_urls[i];\n      var element = document.createElement('script');\n      element.onload = on_load;\n      element.onerror = on_error;\n      element.async = false;\n      element.src = url;\n      console.debug(\"Bokeh: injecting script tag for BokehJS library: \", url);\n      document.head.appendChild(element);\n    }\n  };var element = document.getElementById(\"4788\");\n  if (element == null) {\n    console.error(\"Bokeh: ERROR: autoload.js configured with elementid '4788' but no matching script tag was found. \")\n    return false;\n  }\n\n  function inject_raw_css(css) {\n    const element = document.createElement(\"style\");\n    element.appendChild(document.createTextNode(css));\n    document.body.appendChild(element);\n  }\n\n  \n  var js_urls = [\"https://cdn.pydata.org/bokeh/release/bokeh-1.4.0.min.js\", \"https://cdn.pydata.org/bokeh/release/bokeh-widgets-1.4.0.min.js\", \"https://cdn.pydata.org/bokeh/release/bokeh-tables-1.4.0.min.js\", \"https://cdn.pydata.org/bokeh/release/bokeh-gl-1.4.0.min.js\"];\n  var css_urls = [];\n  \n\n  var inline_js = [\n    function(Bokeh) {\n      Bokeh.set_log_level(\"info\");\n    },\n    function(Bokeh) {\n    \n    \n    }\n  ];\n\n  function run_inline_js() {\n    \n    if (root.Bokeh !== undefined || force === true) {\n      \n    for (var i = 0; i < inline_js.length; i++) {\n      inline_js[i].call(root, root.Bokeh);\n    }\n    if (force === true) {\n        display_loaded();\n      }} else if (Date.now() < root._bokeh_timeout) {\n      setTimeout(run_inline_js, 100);\n    } else if (!root._bokeh_failed_load) {\n      console.log(\"Bokeh: BokehJS failed to load within specified timeout.\");\n      root._bokeh_failed_load = true;\n    } else if (force !== true) {\n      var cell = $(document.getElementById(\"4788\")).parents('.cell').data().cell;\n      cell.output_area.append_execute_result(NB_LOAD_WARNING)\n    }\n\n  }\n\n  if (root._bokeh_is_loading === 0) {\n    console.debug(\"Bokeh: BokehJS loaded, going straight to plotting\");\n    run_inline_js();\n  } else {\n    load_libs(css_urls, js_urls, function() {\n      console.debug(\"Bokeh: BokehJS plotting callback run at\", now());\n      run_inline_js();\n    });\n  }\n}(window));"
     },
     "metadata": {},
     "output_type": "display_data"
    },
    {
     "data": {
      "text/html": [
       "\n",
       "\n",
       "\n",
       "\n",
       "\n",
       "\n",
       "  <div class=\"bk-root\" id=\"f46c495d-b37b-43d6-8f44-037e99360a6a\" data-root-id=\"4789\"></div>\n"
      ]
     },
     "metadata": {},
     "output_type": "display_data"
    },
    {
     "data": {
      "application/javascript": [
       "(function(root) {\n",
       "  function embed_document(root) {\n",
       "    \n",
       "  var docs_json = {\"d3682590-f065-4ba4-b9a3-fdff6fa504fa\":{\"roots\":{\"references\":[{\"attributes\":{\"label\":{\"value\":\"Balanced gini\"},\"renderers\":[{\"id\":\"4870\",\"type\":\"GlyphRenderer\"}]},\"id\":\"4885\",\"type\":\"LegendItem\"},{\"attributes\":{\"source\":{\"id\":\"4850\",\"type\":\"ColumnDataSource\"}},\"id\":\"4854\",\"type\":\"CDSView\"},{\"attributes\":{\"items\":[{\"id\":\"4834\",\"type\":\"LegendItem\"},{\"id\":\"4849\",\"type\":\"LegendItem\"},{\"id\":\"4866\",\"type\":\"LegendItem\"},{\"id\":\"4885\",\"type\":\"LegendItem\"}]},\"id\":\"4833\",\"type\":\"Legend\"},{\"attributes\":{},\"id\":\"4847\",\"type\":\"UnionRenderers\"},{\"attributes\":{\"line_alpha\":0.1,\"line_color\":\"#1f77b4\",\"x\":{\"field\":\"x\"},\"y\":{\"field\":\"y\"}},\"id\":\"4823\",\"type\":\"Line\"},{\"attributes\":{\"callback\":null,\"data\":{\"x\":[1,2,3,4,5,6,7,8,9,10,11,12,13,14,15,16,17,18,19,20],\"y\":{\"__ndarray__\":\"Kme38Ksx6T9QObuFX43pP3YLvxoT6ek/vxoT6YHK6T+/GhPpgcrpP3YLvxoT6ek/dgu/GhPp6T/l7BZ+NSbqP+XsFn41Juo/5ewWfjUm6j/l7BZ+NSbqP+XsFn41Juo/5ewWfjUm6j/l7BZ+NSbqP+XsFn41Juo/5ewWfjUm6j/l7BZ+NSbqP+XsFn41Juo/5ewWfjUm6j/l7BZ+NSbqPw==\",\"dtype\":\"float64\",\"shape\":[20]}},\"selected\":{\"id\":\"4884\",\"type\":\"Selection\"},\"selection_policy\":{\"id\":\"4883\",\"type\":\"UnionRenderers\"}},\"id\":\"4850\",\"type\":\"ColumnDataSource\"},{\"attributes\":{\"text\":\"\"},\"id\":\"4826\",\"type\":\"Title\"},{\"attributes\":{},\"id\":\"4884\",\"type\":\"Selection\"},{\"attributes\":{},\"id\":\"4848\",\"type\":\"Selection\"},{\"attributes\":{\"overlay\":{\"id\":\"4832\",\"type\":\"BoxAnnotation\"}},\"id\":\"4810\",\"type\":\"BoxZoomTool\"},{\"attributes\":{},\"id\":\"4830\",\"type\":\"BasicTickFormatter\"},{\"attributes\":{},\"id\":\"4864\",\"type\":\"UnionRenderers\"},{\"attributes\":{\"data_source\":{\"id\":\"4835\",\"type\":\"ColumnDataSource\"},\"glyph\":{\"id\":\"4836\",\"type\":\"Line\"},\"hover_glyph\":null,\"muted_glyph\":null,\"nonselection_glyph\":{\"id\":\"4837\",\"type\":\"Line\"},\"selection_glyph\":null,\"view\":{\"id\":\"4839\",\"type\":\"CDSView\"}},\"id\":\"4838\",\"type\":\"GlyphRenderer\"},{\"attributes\":{\"axis_label\":\"DTC accuracy\",\"formatter\":{\"id\":\"4830\",\"type\":\"BasicTickFormatter\"},\"ticker\":{\"id\":\"4804\",\"type\":\"BasicTicker\"}},\"id\":\"4803\",\"type\":\"LinearAxis\"},{\"attributes\":{\"below\":[{\"id\":\"4798\",\"type\":\"LinearAxis\"}],\"center\":[{\"id\":\"4802\",\"type\":\"Grid\"},{\"id\":\"4807\",\"type\":\"Grid\"},{\"id\":\"4833\",\"type\":\"Legend\"}],\"left\":[{\"id\":\"4803\",\"type\":\"LinearAxis\"}],\"renderers\":[{\"id\":\"4824\",\"type\":\"GlyphRenderer\"},{\"id\":\"4838\",\"type\":\"GlyphRenderer\"},{\"id\":\"4853\",\"type\":\"GlyphRenderer\"},{\"id\":\"4870\",\"type\":\"GlyphRenderer\"}],\"title\":{\"id\":\"4826\",\"type\":\"Title\"},\"toolbar\":{\"id\":\"4814\",\"type\":\"Toolbar\"},\"x_range\":{\"id\":\"4790\",\"type\":\"DataRange1d\"},\"x_scale\":{\"id\":\"4794\",\"type\":\"LinearScale\"},\"y_range\":{\"id\":\"4792\",\"type\":\"DataRange1d\"},\"y_scale\":{\"id\":\"4796\",\"type\":\"LinearScale\"}},\"id\":\"4789\",\"subtype\":\"Figure\",\"type\":\"Plot\"},{\"attributes\":{\"label\":{\"value\":\"Unbalanced gini\"},\"renderers\":[{\"id\":\"4838\",\"type\":\"GlyphRenderer\"}]},\"id\":\"4849\",\"type\":\"LegendItem\"},{\"attributes\":{},\"id\":\"4813\",\"type\":\"HelpTool\"},{\"attributes\":{\"line_color\":\"orange\",\"x\":{\"field\":\"x\"},\"y\":{\"field\":\"y\"}},\"id\":\"4836\",\"type\":\"Line\"},{\"attributes\":{\"callback\":null},\"id\":\"4792\",\"type\":\"DataRange1d\"},{\"attributes\":{\"callback\":null},\"id\":\"4790\",\"type\":\"DataRange1d\"},{\"attributes\":{},\"id\":\"4808\",\"type\":\"PanTool\"},{\"attributes\":{\"data_source\":{\"id\":\"4867\",\"type\":\"ColumnDataSource\"},\"glyph\":{\"id\":\"4868\",\"type\":\"Line\"},\"hover_glyph\":null,\"muted_glyph\":null,\"nonselection_glyph\":{\"id\":\"4869\",\"type\":\"Line\"},\"selection_glyph\":null,\"view\":{\"id\":\"4871\",\"type\":\"CDSView\"}},\"id\":\"4870\",\"type\":\"GlyphRenderer\"},{\"attributes\":{},\"id\":\"4804\",\"type\":\"BasicTicker\"},{\"attributes\":{},\"id\":\"4865\",\"type\":\"Selection\"},{\"attributes\":{\"source\":{\"id\":\"4821\",\"type\":\"ColumnDataSource\"}},\"id\":\"4825\",\"type\":\"CDSView\"},{\"attributes\":{},\"id\":\"4809\",\"type\":\"WheelZoomTool\"},{\"attributes\":{},\"id\":\"4799\",\"type\":\"BasicTicker\"},{\"attributes\":{},\"id\":\"4828\",\"type\":\"BasicTickFormatter\"},{\"attributes\":{\"line_alpha\":0.1,\"line_color\":\"#1f77b4\",\"x\":{\"field\":\"x\"},\"y\":{\"field\":\"y\"}},\"id\":\"4837\",\"type\":\"Line\"},{\"attributes\":{\"data_source\":{\"id\":\"4821\",\"type\":\"ColumnDataSource\"},\"glyph\":{\"id\":\"4822\",\"type\":\"Line\"},\"hover_glyph\":null,\"muted_glyph\":null,\"nonselection_glyph\":{\"id\":\"4823\",\"type\":\"Line\"},\"selection_glyph\":null,\"view\":{\"id\":\"4825\",\"type\":\"CDSView\"}},\"id\":\"4824\",\"type\":\"GlyphRenderer\"},{\"attributes\":{},\"id\":\"4811\",\"type\":\"SaveTool\"},{\"attributes\":{\"axis_label\":\"Max depth\",\"formatter\":{\"id\":\"4828\",\"type\":\"BasicTickFormatter\"},\"ticker\":{\"id\":\"4799\",\"type\":\"BasicTicker\"}},\"id\":\"4798\",\"type\":\"LinearAxis\"},{\"attributes\":{},\"id\":\"5093\",\"type\":\"UnionRenderers\"},{\"attributes\":{\"line_color\":\"green\",\"x\":{\"field\":\"x\"},\"y\":{\"field\":\"y\"}},\"id\":\"4868\",\"type\":\"Line\"},{\"attributes\":{\"line_color\":\"blue\",\"x\":{\"field\":\"x\"},\"y\":{\"field\":\"y\"}},\"id\":\"4822\",\"type\":\"Line\"},{\"attributes\":{\"source\":{\"id\":\"4867\",\"type\":\"ColumnDataSource\"}},\"id\":\"4871\",\"type\":\"CDSView\"},{\"attributes\":{\"dimension\":1,\"ticker\":{\"id\":\"4804\",\"type\":\"BasicTicker\"}},\"id\":\"4807\",\"type\":\"Grid\"},{\"attributes\":{\"line_alpha\":0.1,\"line_color\":\"#1f77b4\",\"x\":{\"field\":\"x\"},\"y\":{\"field\":\"y\"}},\"id\":\"4869\",\"type\":\"Line\"},{\"attributes\":{\"callback\":null,\"data\":{\"x\":[1,2,3,4,5,6,7,8,9,10,11,12,13,14,15,16,17,18,19,20],\"y\":{\"__ndarray__\":\"Kme38Ksx6T9QObuFX43pP3YLvxoT6ek/vxoT6YHK6T9QObuFX43pP53dwq/GROo/nd3Cr8ZE6j/l7BZ+NSbqP+XsFn41Juo/5ewWfjUm6j/l7BZ+NSbqP+XsFn41Juo/5ewWfjUm6j/l7BZ+NSbqP+XsFn41Juo/5ewWfjUm6j/l7BZ+NSbqP+XsFn41Juo/5ewWfjUm6j/l7BZ+NSbqPw==\",\"dtype\":\"float64\",\"shape\":[20]}},\"selected\":{\"id\":\"5094\",\"type\":\"Selection\"},\"selection_policy\":{\"id\":\"5093\",\"type\":\"UnionRenderers\"}},\"id\":\"4867\",\"type\":\"ColumnDataSource\"},{\"attributes\":{\"active_drag\":\"auto\",\"active_inspect\":\"auto\",\"active_multi\":null,\"active_scroll\":\"auto\",\"active_tap\":\"auto\",\"tools\":[{\"id\":\"4808\",\"type\":\"PanTool\"},{\"id\":\"4809\",\"type\":\"WheelZoomTool\"},{\"id\":\"4810\",\"type\":\"BoxZoomTool\"},{\"id\":\"4811\",\"type\":\"SaveTool\"},{\"id\":\"4812\",\"type\":\"ResetTool\"},{\"id\":\"4813\",\"type\":\"HelpTool\"}]},\"id\":\"4814\",\"type\":\"Toolbar\"},{\"attributes\":{},\"id\":\"4883\",\"type\":\"UnionRenderers\"},{\"attributes\":{},\"id\":\"5094\",\"type\":\"Selection\"},{\"attributes\":{},\"id\":\"4794\",\"type\":\"LinearScale\"},{\"attributes\":{\"source\":{\"id\":\"4835\",\"type\":\"ColumnDataSource\"}},\"id\":\"4839\",\"type\":\"CDSView\"},{\"attributes\":{\"label\":{\"value\":\"Unbalanced entropy\"},\"renderers\":[{\"id\":\"4824\",\"type\":\"GlyphRenderer\"}]},\"id\":\"4834\",\"type\":\"LegendItem\"},{\"attributes\":{\"bottom_units\":\"screen\",\"fill_alpha\":{\"value\":0.5},\"fill_color\":{\"value\":\"lightgrey\"},\"left_units\":\"screen\",\"level\":\"overlay\",\"line_alpha\":{\"value\":1.0},\"line_color\":{\"value\":\"black\"},\"line_dash\":[4,4],\"line_width\":{\"value\":2},\"render_mode\":\"css\",\"right_units\":\"screen\",\"top_units\":\"screen\"},\"id\":\"4832\",\"type\":\"BoxAnnotation\"},{\"attributes\":{\"data_source\":{\"id\":\"4850\",\"type\":\"ColumnDataSource\"},\"glyph\":{\"id\":\"4851\",\"type\":\"Line\"},\"hover_glyph\":null,\"muted_glyph\":null,\"nonselection_glyph\":{\"id\":\"4852\",\"type\":\"Line\"},\"selection_glyph\":null,\"view\":{\"id\":\"4854\",\"type\":\"CDSView\"}},\"id\":\"4853\",\"type\":\"GlyphRenderer\"},{\"attributes\":{},\"id\":\"4796\",\"type\":\"LinearScale\"},{\"attributes\":{\"callback\":null,\"data\":{\"x\":[1,2,3,4,5,6,7,8,9,10,11,12,13,14,15,16,17,18,19,20],\"y\":{\"__ndarray__\":\"Kme38Ksx6T9QObuFX43pPy78akykB+o/dgu/GhPp6T92C78aE+npPy78akykB+o/LvxqTKQH6j8u/GpMpAfqPy78akykB+o/LvxqTKQH6j8u/GpMpAfqPy78akykB+o/LvxqTKQH6j8u/GpMpAfqPy78akykB+o/LvxqTKQH6j8u/GpMpAfqPy78akykB+o/LvxqTKQH6j8u/GpMpAfqPw==\",\"dtype\":\"float64\",\"shape\":[20]}},\"selected\":{\"id\":\"4865\",\"type\":\"Selection\"},\"selection_policy\":{\"id\":\"4864\",\"type\":\"UnionRenderers\"}},\"id\":\"4835\",\"type\":\"ColumnDataSource\"},{\"attributes\":{\"ticker\":{\"id\":\"4799\",\"type\":\"BasicTicker\"}},\"id\":\"4802\",\"type\":\"Grid\"},{\"attributes\":{\"line_alpha\":0.1,\"line_color\":\"#1f77b4\",\"x\":{\"field\":\"x\"},\"y\":{\"field\":\"y\"}},\"id\":\"4852\",\"type\":\"Line\"},{\"attributes\":{\"callback\":null,\"data\":{\"x\":[1,2,3,4,5,6,7,8,9,10,11,12,13,14,15,16,17,18,19,20],\"y\":{\"__ndarray__\":\"Kme38Ksx6T9QObuFX43pPy78akykB+o/dgu/GhPp6T92C78aE+npPy78akykB+o/LvxqTKQH6j8u/GpMpAfqPy78akykB+o/LvxqTKQH6j8u/GpMpAfqPy78akykB+o/LvxqTKQH6j8u/GpMpAfqPy78akykB+o/LvxqTKQH6j8u/GpMpAfqPy78akykB+o/LvxqTKQH6j8u/GpMpAfqPw==\",\"dtype\":\"float64\",\"shape\":[20]}},\"selected\":{\"id\":\"4848\",\"type\":\"Selection\"},\"selection_policy\":{\"id\":\"4847\",\"type\":\"UnionRenderers\"}},\"id\":\"4821\",\"type\":\"ColumnDataSource\"},{\"attributes\":{\"label\":{\"value\":\"Balanced entropy\"},\"renderers\":[{\"id\":\"4853\",\"type\":\"GlyphRenderer\"}]},\"id\":\"4866\",\"type\":\"LegendItem\"},{\"attributes\":{},\"id\":\"4812\",\"type\":\"ResetTool\"},{\"attributes\":{\"line_color\":\"red\",\"x\":{\"field\":\"x\"},\"y\":{\"field\":\"y\"}},\"id\":\"4851\",\"type\":\"Line\"}],\"root_ids\":[\"4789\"]},\"title\":\"Bokeh Application\",\"version\":\"1.4.0\"}};\n",
       "  var render_items = [{\"docid\":\"d3682590-f065-4ba4-b9a3-fdff6fa504fa\",\"roots\":{\"4789\":\"f46c495d-b37b-43d6-8f44-037e99360a6a\"}}];\n",
       "  root.Bokeh.embed.embed_items_notebook(docs_json, render_items);\n",
       "\n",
       "  }\n",
       "  if (root.Bokeh !== undefined) {\n",
       "    embed_document(root);\n",
       "  } else {\n",
       "    var attempts = 0;\n",
       "    var timer = setInterval(function(root) {\n",
       "      if (root.Bokeh !== undefined) {\n",
       "        clearInterval(timer);\n",
       "        embed_document(root);\n",
       "      } else {\n",
       "        attempts++;\n",
       "        if (attempts > 100) {\n",
       "          clearInterval(timer);\n",
       "          console.log(\"Bokeh: ERROR: Unable to run BokehJS code because BokehJS library is missing\");\n",
       "        }\n",
       "      }\n",
       "    }, 10, root)\n",
       "  }\n",
       "})(window);"
      ],
      "application/vnd.bokehjs_exec.v0+json": ""
     },
     "metadata": {
      "application/vnd.bokehjs_exec.v0+json": {
       "id": "4789"
      }
     },
     "output_type": "display_data"
    },
    {
     "name": "stdout",
     "output_type": "stream",
     "text": [
      "Max accuracy: 0.8208955223880597\n"
     ]
    }
   ],
   "source": [
    "import numpy as np\n",
    "from bokeh.plotting import figure, show, output_notebook\n",
    "\n",
    "output_notebook()\n",
    "\n",
    "# Quick experiment on tree parameters.\n",
    "def _compute_dtc_score(criterion, max_depth, class_weight):\n",
    "    return DecisionTreeClassifier(class_weight=class_weight,\n",
    "                                  criterion=criterion,\n",
    "                                  max_depth=max_depth)\\\n",
    "            .fit(train_df[categorical_columns].apply(lambda x: x.cat.codes),\n",
    "                train_df['Survived'])\\\n",
    "            .score(eval_df[categorical_columns].apply(lambda x: x.cat.codes),\n",
    "                  eval_df['Survived'])\n",
    "\n",
    "criteria = ['entropy', 'gini']\n",
    "max_allowed_depth = 20\n",
    "accuracies = np.zeros((2, len(criteria), max_allowed_depth))\n",
    "for idx0, class_weight in enumerate([None, 'balanced']):\n",
    "    for idx1, criterion in enumerate(criteria):\n",
    "        for idx2, max_depth in enumerate(range(1, max_allowed_depth + 1)):\n",
    "            accuracies[idx0, idx1, idx2] = _compute_dtc_score(criterion, max_depth, class_weight)\n",
    "\n",
    "dt_plot = figure()\n",
    "dt_plot.line(range(1, max_allowed_depth + 1), accuracies[0, 0, :], color='blue', legend_label='Unbalanced {}'.format(criteria[0]))\n",
    "dt_plot.line(range(1, max_allowed_depth + 1), accuracies[0, 1, :], color='orange', legend_label='Unbalanced {}'.format(criteria[1]))\n",
    "dt_plot.line(range(1, max_allowed_depth + 1), accuracies[1, 0, :], color='red', legend_label='Balanced {}'.format(criteria[0]))\n",
    "dt_plot.line(range(1, max_allowed_depth + 1), accuracies[1, 1, :], color='green', legend_label='Balanced {}'.format(criteria[1]))\n",
    "dt_plot.xaxis.axis_label = 'Max depth'\n",
    "dt_plot.yaxis.axis_label = 'DTC accuracy'\n",
    "show(dt_plot)\n",
    "\n",
    "print('Max accuracy: {}'.format(np.max(accuracies)))"
   ]
  },
  {
   "cell_type": "code",
   "execution_count": 22,
   "metadata": {},
   "outputs": [
    {
     "data": {
      "text/html": [
       "<div>\n",
       "<style scoped>\n",
       "    .dataframe tbody tr th:only-of-type {\n",
       "        vertical-align: middle;\n",
       "    }\n",
       "\n",
       "    .dataframe tbody tr th {\n",
       "        vertical-align: top;\n",
       "    }\n",
       "\n",
       "    .dataframe thead th {\n",
       "        text-align: right;\n",
       "    }\n",
       "</style>\n",
       "<table border=\"1\" class=\"dataframe\">\n",
       "  <thead>\n",
       "    <tr style=\"text-align: right;\">\n",
       "      <th></th>\n",
       "      <th>PassengerId</th>\n",
       "      <th>Survived</th>\n",
       "      <th>Pclass</th>\n",
       "      <th>Sex</th>\n",
       "      <th>Age</th>\n",
       "      <th>SibSp</th>\n",
       "      <th>Parch</th>\n",
       "      <th>Fare</th>\n",
       "      <th>Embarked</th>\n",
       "      <th>Title</th>\n",
       "      <th>TicketNumber</th>\n",
       "      <th>Floor</th>\n",
       "    </tr>\n",
       "  </thead>\n",
       "  <tbody>\n",
       "    <tr>\n",
       "      <th>857</th>\n",
       "      <td>858</td>\n",
       "      <td>1</td>\n",
       "      <td>1</td>\n",
       "      <td>0</td>\n",
       "      <td>51.0</td>\n",
       "      <td>0</td>\n",
       "      <td>0</td>\n",
       "      <td>26.5500</td>\n",
       "      <td>0</td>\n",
       "      <td>2</td>\n",
       "      <td>113055.0</td>\n",
       "      <td>3</td>\n",
       "    </tr>\n",
       "    <tr>\n",
       "      <th>52</th>\n",
       "      <td>53</td>\n",
       "      <td>1</td>\n",
       "      <td>1</td>\n",
       "      <td>1</td>\n",
       "      <td>49.0</td>\n",
       "      <td>1</td>\n",
       "      <td>0</td>\n",
       "      <td>76.7292</td>\n",
       "      <td>1</td>\n",
       "      <td>11</td>\n",
       "      <td>17572.0</td>\n",
       "      <td>1</td>\n",
       "    </tr>\n",
       "    <tr>\n",
       "      <th>386</th>\n",
       "      <td>387</td>\n",
       "      <td>0</td>\n",
       "      <td>0</td>\n",
       "      <td>0</td>\n",
       "      <td>1.0</td>\n",
       "      <td>5</td>\n",
       "      <td>2</td>\n",
       "      <td>46.9000</td>\n",
       "      <td>0</td>\n",
       "      <td>15</td>\n",
       "      <td>2144.0</td>\n",
       "      <td>4</td>\n",
       "    </tr>\n",
       "    <tr>\n",
       "      <th>124</th>\n",
       "      <td>125</td>\n",
       "      <td>0</td>\n",
       "      <td>1</td>\n",
       "      <td>0</td>\n",
       "      <td>54.0</td>\n",
       "      <td>0</td>\n",
       "      <td>1</td>\n",
       "      <td>77.2875</td>\n",
       "      <td>0</td>\n",
       "      <td>2</td>\n",
       "      <td>35281.0</td>\n",
       "      <td>1</td>\n",
       "    </tr>\n",
       "    <tr>\n",
       "      <th>578</th>\n",
       "      <td>579</td>\n",
       "      <td>0</td>\n",
       "      <td>0</td>\n",
       "      <td>1</td>\n",
       "      <td>NaN</td>\n",
       "      <td>1</td>\n",
       "      <td>0</td>\n",
       "      <td>14.4583</td>\n",
       "      <td>1</td>\n",
       "      <td>11</td>\n",
       "      <td>2689.0</td>\n",
       "      <td>4</td>\n",
       "    </tr>\n",
       "  </tbody>\n",
       "</table>\n",
       "</div>"
      ],
      "text/plain": [
       "     PassengerId  Survived  Pclass  Sex   Age  SibSp  Parch     Fare  \\\n",
       "857          858         1       1    0  51.0      0      0  26.5500   \n",
       "52            53         1       1    1  49.0      1      0  76.7292   \n",
       "386          387         0       0    0   1.0      5      2  46.9000   \n",
       "124          125         0       1    0  54.0      0      1  77.2875   \n",
       "578          579         0       0    1   NaN      1      0  14.4583   \n",
       "\n",
       "     Embarked  Title  TicketNumber  Floor  \n",
       "857         0      2      113055.0      3  \n",
       "52          1     11       17572.0      1  \n",
       "386         0     15        2144.0      4  \n",
       "124         0      2       35281.0      1  \n",
       "578         1     11        2689.0      4  "
      ]
     },
     "execution_count": 22,
     "metadata": {},
     "output_type": "execute_result"
    }
   ],
   "source": [
    "train_df.head()"
   ]
  },
  {
   "cell_type": "markdown",
   "metadata": {},
   "source": [
    "## Approach 3: combine gender and class"
   ]
  },
  {
   "cell_type": "code",
   "execution_count": null,
   "metadata": {},
   "outputs": [],
   "source": [
    "def get_gender_and_class_based_samples_and_labels(df):\n",
    "    samples_labels = df[['Pclass', 'Sex', 'Survived']].replace({'male': 1, 'female': 0}).values\n",
    "    samples = samples_labels[:, :2]\n",
    "\n",
    "    # See what happens to the accuracy if we set one of the variables to random values.\n",
    "    # samples[:, 0] = np.random.randint(3, size=len(samples))\n",
    "    # samples[:, 1] = np.random.randint(2, size=len(samples))\n",
    "\n",
    "    labels = samples_labels[:, 2]\n",
    "    return samples, labels\n",
    "\n",
    "train_samples, train_labels = get_gender_and_class_based_samples_and_labels(train_df)\n",
    "tree_classifier_3 = tree.DecisionTreeClassifier().fit(train_samples, train_labels)\n",
    "\n",
    "eval_samples, eval_labels = get_gender_and_class_based_samples_and_labels(eval_df)\n",
    "accuracy_3 = tree_classifier_3.score(eval_samples, eval_labels)\n",
    "print('Accuracy 3: {}'.format(accuracy_3))"
   ]
  },
  {
   "cell_type": "markdown",
   "metadata": {},
   "source": [
    "We get the same accuracy as using the gender only. This means that all the classification power is carried by the gender only: the class does not add any information.\n",
    "Let's draw a matrix to correlate gender and class."
   ]
  },
  {
   "cell_type": "code",
   "execution_count": null,
   "metadata": {},
   "outputs": [],
   "source": [
    "class_vs_gender_df = train_df.pivot_table(index='Sex', columns='Pclass', values='Survived', aggfunc=['count', 'mean'])\n",
    "class_vs_gender_df"
   ]
  },
  {
   "cell_type": "markdown",
   "metadata": {},
   "source": [
    "If we threshold the classification on 0.5, all the women would be classified as \"Survived\" and all the men as \"Not survived\".\n",
    "All the information is \"contained\" in the gender."
   ]
  },
  {
   "cell_type": "markdown",
   "metadata": {},
   "source": [
    "## Approach 4: use the continuous variable \"Age\""
   ]
  },
  {
   "cell_type": "markdown",
   "metadata": {},
   "source": [
    "Remove NaN age values, ages less than 1 year and half-year ages."
   ]
  },
  {
   "cell_type": "code",
   "execution_count": null,
   "metadata": {},
   "outputs": [],
   "source": [
    "def extract_age_df(df):\n",
    "    age_df = df[['Survived', 'Age']].dropna(axis='index', how='any')\n",
    "    age_df = age_df[age_df['Age'] > 1].round({'Age': 0})\n",
    "    return age_df\n",
    "\n",
    "age_train_df = extract_age_df(train_df)\n",
    "age_eval_df = extract_age_df(eval_df)"
   ]
  },
  {
   "cell_type": "code",
   "execution_count": null,
   "metadata": {},
   "outputs": [],
   "source": [
    "from bokeh.plotting import figure, show, output_notebook\n",
    "from bokeh.models import ColumnDataSource, FactorRange\n",
    "\n",
    "source = ColumnDataSource(data=age_train_df)\n",
    "\n",
    "output_notebook()\n",
    "\n",
    "age_plot = figure()\n",
    "age_plot.circle(x='Age', y='Survived', source=source)\n",
    "age_plot.xaxis.axis_label = 'Age (years)'\n",
    "age_plot.yaxis.axis_label = 'Survived'\n",
    "show(age_plot)"
   ]
  },
  {
   "cell_type": "code",
   "execution_count": null,
   "metadata": {},
   "outputs": [],
   "source": [
    "min_bin = 0\n",
    "max_bin = 100\n",
    "num_bins = 10\n",
    "step = int((max_bin - min_bin) / num_bins)\n",
    "bins = range(min_bin, max_bin + 1, step)\n",
    "hist_train_age_df = age_train_df.groupby([pd.cut(age_train_df.Age, bins)])['Survived'].agg(['count', 'mean'])\n",
    "hist_train_age_df"
   ]
  },
  {
   "cell_type": "code",
   "execution_count": null,
   "metadata": {},
   "outputs": [],
   "source": [
    "age_hist = figure()\n",
    "age_hist.quad(bottom=0,\n",
    "              top=hist_train_age_df['mean'],\n",
    "              left=hist_train_age_df.index.categories.left,\n",
    "              right=hist_train_age_df.index.categories.right,\n",
    "              fill_color='red',\n",
    "              line_color='black')\n",
    "age_hist.xaxis.axis_label = 'Age (years)'\n",
    "age_hist.yaxis.axis_label = 'Prob of surviving'\n",
    "show(age_hist)"
   ]
  },
  {
   "cell_type": "markdown",
   "metadata": {},
   "source": [
    "The probability of surviving does not seem linear with the age: we exclude Logistic Regression. What about SVM?"
   ]
  },
  {
   "cell_type": "code",
   "execution_count": null,
   "metadata": {},
   "outputs": [],
   "source": [
    "from sklearn.svm import SVC\n",
    "\n",
    "train_ages = np.array(age_train_df['Age']).reshape(-1, 1)\n",
    "train_labels = np.array(age_train_df['Survived'])\n",
    "\n",
    "C = 1.0 # default is 1.0\n",
    "kernel = 'rbf' # default is \"rbf\"\n",
    "degree = 5 # default is 3\n",
    "max_iter = -1 # default is -1\n",
    "gamma = 'scale'\n",
    "svm_classifier = SVC(C=C, kernel=kernel, degree=degree, gamma=gamma, max_iter=max_iter).fit(train_ages, train_labels)"
   ]
  },
  {
   "cell_type": "code",
   "execution_count": null,
   "metadata": {},
   "outputs": [],
   "source": [
    "eval_ages = np.array(age_eval_df['Age']).reshape(-1, 1)\n",
    "eval_labels = np.array(age_eval_df['Survived'])\n",
    "accuracy_4 = svm_classifier.score(eval_ages, eval_labels)\n",
    "accuracy_4"
   ]
  },
  {
   "cell_type": "markdown",
   "metadata": {},
   "source": [
    "Not great. The best we get is 0.6298076923076923 using:\n",
    "```\n",
    "C = 1.0\n",
    "kernel = 'rbf'\n",
    "max_iter = -1\n",
    "gamma = 'scale'\n",
    "```"
   ]
  },
  {
   "cell_type": "markdown",
   "metadata": {},
   "source": [
    "## Approach 5: maybe the fare alone does better?"
   ]
  },
  {
   "cell_type": "code",
   "execution_count": null,
   "metadata": {},
   "outputs": [],
   "source": [
    "source = ColumnDataSource(data=train_df)\n",
    "\n",
    "fare_plot = figure()\n",
    "fare_plot.circle(x='Fare', y='Survived', source=source)\n",
    "fare_plot.xaxis.axis_label = 'Fare ($)'\n",
    "fare_plot.yaxis.axis_label = 'Survived'\n",
    "show(fare_plot)"
   ]
  },
  {
   "cell_type": "markdown",
   "metadata": {},
   "source": [
    "There is a slight correlation: shall we give Logistic Regression a try?"
   ]
  },
  {
   "cell_type": "code",
   "execution_count": null,
   "metadata": {},
   "outputs": [],
   "source": [
    "from sklearn.linear_model import LogisticRegression\n",
    "\n",
    "train_fares = np.array(train_df['Fare']).reshape(-1, 1)\n",
    "train_labels = np.array(train_df['Survived'])\n",
    "\n",
    "lr_fare_classifier = LogisticRegression().fit(train_fares, train_labels)\n",
    "\n",
    "eval_fares = np.array(eval_df['Fare']).reshape(-1, 1)\n",
    "eval_labels = np.array(eval_df['Survived'])\n",
    "accuracy_5 = lr_fare_classifier.score(eval_fares, eval_labels)\n",
    "accuracy_5"
   ]
  },
  {
   "cell_type": "markdown",
   "metadata": {},
   "source": [
    "Does SVM perform as well?"
   ]
  },
  {
   "cell_type": "code",
   "execution_count": null,
   "metadata": {},
   "outputs": [],
   "source": [
    "C = 0.1 # default is 1.0\n",
    "kernel = 'rbf' # default is \"rbf\"\n",
    "degree = 5 # default is 3\n",
    "max_iter = -1 # default is -1\n",
    "gamma = 'scale'\n",
    "svm_fare_classifier = SVC(C=C, kernel=kernel, degree=degree, gamma=gamma, max_iter=max_iter).fit(train_fares, train_labels)\n",
    "accuracy_5B = svm_fare_classifier.score(eval_fares, eval_labels)\n",
    "accuracy_5B"
   ]
  },
  {
   "cell_type": "markdown",
   "metadata": {},
   "source": [
    "## Approach 6: age and fare together"
   ]
  },
  {
   "cell_type": "code",
   "execution_count": null,
   "metadata": {},
   "outputs": [],
   "source": [
    "survived_source = ColumnDataSource(data=train_df[train_df['Survived'] == 1])\n",
    "not_survived_source = ColumnDataSource(data=train_df[train_df['Survived'] == 0])\n",
    "\n",
    "fare_vs_age_plot = figure()\n",
    "fare_vs_age_plot.circle(x='Age', y='Fare', alpha=0.5, color='blue', source=survived_source)\n",
    "fare_vs_age_plot.square(x='Age', y='Fare', alpha=0.5, color='orange', source=not_survived_source)\n",
    "fare_vs_age_plot.xaxis.axis_label = 'Age (years)'\n",
    "fare_vs_age_plot.yaxis.axis_label = 'Fare ($)'\n",
    "show(fare_vs_age_plot)"
   ]
  },
  {
   "cell_type": "code",
   "execution_count": null,
   "metadata": {},
   "outputs": [],
   "source": [
    "train_ages_fares = np.array(train_df.dropna(axis='index', how='any')[['Age', 'Fare']])\n",
    "train_labels = np.array(train_df.dropna(axis='index', how='any')['Survived'])\n",
    "\n",
    "eval_ages_fares = np.array(eval_df.dropna(axis='index', how='any')[['Age', 'Fare']])\n",
    "eval_labels = np.array(eval_df.dropna(axis='index', how='any')['Survived'])\n",
    "\n",
    "C = 0.1 # default is 1.0\n",
    "kernel = 'rbf' # default is \"rbf\"\n",
    "degree = 5 # default is 3\n",
    "max_iter = -1 # default is -1\n",
    "gamma = 'scale'\n",
    "svm_age_fare_classifier = SVC(C=C, kernel=kernel, degree=degree, gamma=gamma, max_iter=max_iter).fit(train_ages_fares, train_labels)\n",
    "accuracy_6 = svm_age_fare_classifier.score(eval_ages_fares, eval_labels)\n",
    "accuracy_6"
   ]
  },
  {
   "cell_type": "markdown",
   "metadata": {},
   "source": [
    "We do worse than using only the fare. My hypothesis is that the fare contains all the information and removing the samples with invalid age makes the accuracy drop because we lose those fare samples too.\n",
    "\n",
    "However, we can recognize some regions populated mostly by blue or orange dots. KNN usually does well in these cases."
   ]
  },
  {
   "cell_type": "code",
   "execution_count": null,
   "metadata": {},
   "outputs": [],
   "source": [
    "from sklearn.neighbors import KNeighborsClassifier\n",
    "\n",
    "def _use_knn(n_neighbors, weights):\n",
    "    return KNeighborsClassifier(n_neighbors=n_neighbors, weights=weights).fit(train_ages_fares, train_labels).score(eval_ages_fares, eval_labels)\n",
    "\n",
    "max_num_neighbours = 20\n",
    "weights_str = ['uniform', 'distance']\n",
    "knn_accuracies = np.zeros((len(weights_str), max_num_neighbours))\n",
    "for row_idx, weights in enumerate(weights_str):\n",
    "    for col_idx, n_neighbors in enumerate(range(1, max_num_neighbours + 1)):\n",
    "        knn_accuracies[row_idx, col_idx] = _use_knn(n_neighbors, weights)\n",
    "\n",
    "knn_plot = figure()\n",
    "knn_plot.line(range(1, max_num_neighbours + 1), knn_accuracies[0, :], color='blue', legend_label=weights_str[0])\n",
    "knn_plot.line(range(1, max_num_neighbours + 1), knn_accuracies[1, :], color='orange', legend_label=weights_str[1])\n",
    "knn_plot.xaxis.axis_label = 'Num neighbours'\n",
    "knn_plot.yaxis.axis_label = 'KNN accuracy'\n",
    "show(knn_plot)\n",
    "\n",
    "print('Max KNN accuracy: {}'.format(np.max(knn_accuracies)))"
   ]
  },
  {
   "cell_type": "markdown",
   "metadata": {},
   "source": [
    "## Approach 7: use the number of family members"
   ]
  },
  {
   "cell_type": "code",
   "execution_count": null,
   "metadata": {},
   "outputs": [],
   "source": [
    "def extract_family_df(df):\n",
    "    family_df = df[['Survived', 'SibSp', 'Parch']].dropna(axis='index', how='any')\n",
    "    return family_df\n",
    "\n",
    "train_family_df = extract_family_df(train_df)\n",
    "train_family_df = train_family_df.groupby(['SibSp', 'Parch']).agg({'Survived': ['count', 'sum', 'mean']})\n",
    "train_family_df.columns = train_family_df.columns.droplevel(0)\n",
    "train_family_df.rename(columns={'count': 'Total', 'sum': 'NumSurvived', 'mean': 'ProbSurviving'}, inplace=True)\n",
    "train_family_df = train_family_df.reset_index()\n",
    "train_family_df"
   ]
  },
  {
   "cell_type": "code",
   "execution_count": null,
   "metadata": {},
   "outputs": [],
   "source": [
    "train_family_df.iloc[0, 2] = 0\n",
    "train_family_df"
   ]
  },
  {
   "cell_type": "code",
   "execution_count": null,
   "metadata": {},
   "outputs": [],
   "source": [
    "from bokeh.transform import linear_cmap\n",
    "\n",
    "output_notebook()\n",
    "\n",
    "family_source = ColumnDataSource(data=train_family_df)\n",
    "\n",
    "color_mapper = linear_cmap(field_name='ProbSurviving', palette='Turbo256' ,low=0, high=1)\n",
    "# color_mapper = LinearColorMapper(palette='Magma256', low=0, high=1)\n",
    "\n",
    "family_plot = figure()\n",
    "family_plot.circle(x='SibSp', y='Parch', alpha=0.5, size='Total', color=color_mapper, source=family_source)\n",
    "family_plot.xaxis.axis_label = '# siblings/spouses'\n",
    "family_plot.yaxis.axis_label = '# parents/children'\n",
    "\n",
    "show(family_plot)"
   ]
  },
  {
   "cell_type": "code",
   "execution_count": null,
   "metadata": {},
   "outputs": [],
   "source": [
    "train_family_df = extract_family_df(train_df)\n",
    "train_samples = train_family_df[['SibSp', 'Parch']].values\n",
    "train_labels = train_family_df['Survived'].values\n",
    "\n",
    "eval_family_df = extract_family_df(eval_df)\n",
    "eval_samples = eval_family_df[['SibSp', 'Parch']].values\n",
    "eval_labels = eval_family_df['Survived'].values\n",
    "\n",
    "def _use_dt(criterion, max_depth, class_weight):\n",
    "    return tree.DecisionTreeClassifier(class_weight=class_weight, criterion=criterion, max_depth=max_depth).fit(train_samples, train_labels).score(eval_samples, eval_labels)\n",
    "\n",
    "criterions = ['entropy', 'gini']\n",
    "max_allowed_depth = 10\n",
    "dt_accuracies = np.zeros((2, len(criterions), max_allowed_depth))\n",
    "for ch_idx, class_weight in enumerate([None, 'balanced']):\n",
    "    for row_idx, criterion in enumerate(criterions):\n",
    "        for col_idx, max_depth in enumerate(range(1, max_allowed_depth + 1)):\n",
    "            dt_accuracies[ch_idx, row_idx, col_idx] = _use_dt(criterion, max_depth, class_weight)\n",
    "\n",
    "dt_plot = figure()\n",
    "dt_plot.line(range(1, max_num_neighbours + 1), dt_accuracies[0, 0, :], color='blue', legend_label='Unbalanced {}'.format(criterions[0]))\n",
    "dt_plot.line(range(1, max_num_neighbours + 1), dt_accuracies[0, 1, :], color='orange', legend_label='Unbalanced {}'.format(criterions[1]))\n",
    "dt_plot.line(range(1, max_num_neighbours + 1), dt_accuracies[1, 0, :], color='red', legend_label='Balanced {}'.format(criterions[0]))\n",
    "dt_plot.line(range(1, max_num_neighbours + 1), dt_accuracies[1, 1, :], color='green', legend_label='Balanced {}'.format(criterions[1]))\n",
    "dt_plot.xaxis.axis_label = 'Max depth'\n",
    "dt_plot.yaxis.axis_label = 'DT accuracy'\n",
    "show(dt_plot)\n",
    "\n",
    "print('Max DT accuracy: {}'.format(np.max(dt_accuracies)))"
   ]
  },
  {
   "cell_type": "code",
   "execution_count": null,
   "metadata": {},
   "outputs": [],
   "source": [
    "C = 0.1 # default is 1.0\n",
    "kernel = 'rbf' # default is \"rbf\"\n",
    "degree = 5 # default is 3\n",
    "max_iter = -1 # default is -1\n",
    "gamma = 'scale'\n",
    "family_svm_classifier = SVC(C=C, kernel=kernel, degree=degree, gamma=gamma, max_iter=max_iter).fit(train_samples, train_labels)\n",
    "accuracy_7B = family_svm_classifier.score(eval_samples, eval_labels)\n",
    "print('Accuracy 7B: {}'.format(accuracy_7B))"
   ]
  },
  {
   "cell_type": "markdown",
   "metadata": {},
   "source": [
    "Not great, but classes are highly imbalanced. Let's try to weight the samples."
   ]
  },
  {
   "cell_type": "code",
   "execution_count": null,
   "metadata": {},
   "outputs": [],
   "source": []
  }
 ],
 "metadata": {
  "kernelspec": {
   "display_name": "Python 3",
   "language": "python",
   "name": "python3"
  },
  "language_info": {
   "codemirror_mode": {
    "name": "ipython",
    "version": 3
   },
   "file_extension": ".py",
   "mimetype": "text/x-python",
   "name": "python",
   "nbconvert_exporter": "python",
   "pygments_lexer": "ipython3",
   "version": "3.5.2"
  }
 },
 "nbformat": 4,
 "nbformat_minor": 4
}
