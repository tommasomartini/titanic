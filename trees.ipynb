{
 "cells": [
  {
   "cell_type": "markdown",
   "metadata": {},
   "source": [
    "# Trees\n",
    "Use decision trees to solve the challenge."
   ]
  },
  {
   "cell_type": "code",
   "execution_count": 58,
   "metadata": {},
   "outputs": [
    {
     "data": {
      "text/plain": [
       "PassengerId        int64\n",
       "Survived           int64\n",
       "Pclass          category\n",
       "Sex             category\n",
       "Age              float64\n",
       "SibSp              int64\n",
       "Parch              int64\n",
       "Fare             float64\n",
       "Embarked        category\n",
       "Title           category\n",
       "TicketNumber     float64\n",
       "Floor           category\n",
       "dtype: object"
      ]
     },
     "execution_count": 58,
     "metadata": {},
     "output_type": "execute_result"
    }
   ],
   "source": [
    "import dataset as ds\n",
    "\n",
    "train_df, eval_df = ds.get_formatted_splits()\n",
    "train_df.dtypes\n",
    "# train_df.head()"
   ]
  },
  {
   "cell_type": "markdown",
   "metadata": {},
   "source": [
    "## Approach 1: likelihood on gender\n",
    "Let's try something naive: predict the probability of surviving given a binary variable like gender."
   ]
  },
  {
   "cell_type": "code",
   "execution_count": 46,
   "metadata": {},
   "outputs": [],
   "source": [
    "def get_prob_of_surviving_based_on_gender(df):\n",
    "    prob_survival_on_gender = df.dropna(subset=['Sex'], inplace=False).groupby('Sex').agg({'Survived': ['mean', 'count']}).rename(columns={'mean': 'Prob_surviving', 'count': 'Total'})\n",
    "    prob_survival_on_gender.columns = prob_survival_on_gender.columns.droplevel(0)\n",
    "    prob_survival_on_gender = prob_survival_on_gender.assign(Fraction=prob_survival_on_gender['Total'] / prob_survival_on_gender['Total'].sum())\n",
    "    return prob_survival_on_gender"
   ]
  },
  {
   "cell_type": "code",
   "execution_count": 47,
   "metadata": {},
   "outputs": [
    {
     "data": {
      "text/html": [
       "<div>\n",
       "<style scoped>\n",
       "    .dataframe tbody tr th:only-of-type {\n",
       "        vertical-align: middle;\n",
       "    }\n",
       "\n",
       "    .dataframe tbody tr th {\n",
       "        vertical-align: top;\n",
       "    }\n",
       "\n",
       "    .dataframe thead th {\n",
       "        text-align: right;\n",
       "    }\n",
       "</style>\n",
       "<table border=\"1\" class=\"dataframe\">\n",
       "  <thead>\n",
       "    <tr style=\"text-align: right;\">\n",
       "      <th></th>\n",
       "      <th>Prob_surviving</th>\n",
       "      <th>Total</th>\n",
       "      <th>Fraction</th>\n",
       "    </tr>\n",
       "    <tr>\n",
       "      <th>Sex</th>\n",
       "      <th></th>\n",
       "      <th></th>\n",
       "      <th></th>\n",
       "    </tr>\n",
       "  </thead>\n",
       "  <tbody>\n",
       "    <tr>\n",
       "      <th>male</th>\n",
       "      <td>0.196078</td>\n",
       "      <td>408</td>\n",
       "      <td>0.654896</td>\n",
       "    </tr>\n",
       "    <tr>\n",
       "      <th>female</th>\n",
       "      <td>0.753488</td>\n",
       "      <td>215</td>\n",
       "      <td>0.345104</td>\n",
       "    </tr>\n",
       "  </tbody>\n",
       "</table>\n",
       "</div>"
      ],
      "text/plain": [
       "        Prob_surviving  Total  Fraction\n",
       "Sex                                    \n",
       "male          0.196078    408  0.654896\n",
       "female        0.753488    215  0.345104"
      ]
     },
     "execution_count": 47,
     "metadata": {},
     "output_type": "execute_result"
    }
   ],
   "source": [
    "prob_survival_on_gender_train = get_prob_of_surviving_based_on_gender(train_df)\n",
    "prob_survival_on_gender_train"
   ]
  },
  {
   "cell_type": "markdown",
   "metadata": {},
   "source": [
    "Let's try to apply these probabilities to the evaluation data: if the probability t survive is higher than 0.5, then we classify that passenger as \"survived\"."
   ]
  },
  {
   "cell_type": "code",
   "execution_count": 48,
   "metadata": {},
   "outputs": [
    {
     "data": {
      "text/html": [
       "<div>\n",
       "<style scoped>\n",
       "    .dataframe tbody tr th:only-of-type {\n",
       "        vertical-align: middle;\n",
       "    }\n",
       "\n",
       "    .dataframe tbody tr th {\n",
       "        vertical-align: top;\n",
       "    }\n",
       "\n",
       "    .dataframe thead th {\n",
       "        text-align: right;\n",
       "    }\n",
       "</style>\n",
       "<table border=\"1\" class=\"dataframe\">\n",
       "  <thead>\n",
       "    <tr style=\"text-align: right;\">\n",
       "      <th></th>\n",
       "      <th>Prob_surviving</th>\n",
       "      <th>Total</th>\n",
       "      <th>Fraction</th>\n",
       "      <th>Prediction</th>\n",
       "    </tr>\n",
       "    <tr>\n",
       "      <th>Sex</th>\n",
       "      <th></th>\n",
       "      <th></th>\n",
       "      <th></th>\n",
       "      <th></th>\n",
       "    </tr>\n",
       "  </thead>\n",
       "  <tbody>\n",
       "    <tr>\n",
       "      <th>male</th>\n",
       "      <td>0.196078</td>\n",
       "      <td>408</td>\n",
       "      <td>0.654896</td>\n",
       "      <td>False</td>\n",
       "    </tr>\n",
       "    <tr>\n",
       "      <th>female</th>\n",
       "      <td>0.753488</td>\n",
       "      <td>215</td>\n",
       "      <td>0.345104</td>\n",
       "      <td>True</td>\n",
       "    </tr>\n",
       "  </tbody>\n",
       "</table>\n",
       "</div>"
      ],
      "text/plain": [
       "        Prob_surviving  Total  Fraction  Prediction\n",
       "Sex                                                \n",
       "male          0.196078    408  0.654896       False\n",
       "female        0.753488    215  0.345104        True"
      ]
     },
     "execution_count": 48,
     "metadata": {},
     "output_type": "execute_result"
    }
   ],
   "source": [
    "prob_survival_on_gender_train['Prediction'] = prob_survival_on_gender_train['Prob_surviving'] > 0.5\n",
    "prob_survival_on_gender_train"
   ]
  },
  {
   "cell_type": "code",
   "execution_count": 49,
   "metadata": {},
   "outputs": [
    {
     "name": "stdout",
     "output_type": "stream",
     "text": [
      "Accuracy on training set: 0.7865168539325843\n",
      "Accuracy on evaluation set: 0.7873134328358209\n"
     ]
    }
   ],
   "source": [
    "def evaluate_gender_likelihood_on_set(df):\n",
    "    predictions = df['Sex'].apply(lambda gender: prob_survival_on_gender_train.loc[gender]['Prediction'])\n",
    "    accuracy = (predictions == df['Survived']).mean()\n",
    "    return accuracy\n",
    "\n",
    "train_accuracy = evaluate_gender_likelihood_on_set(train_df)\n",
    "print('Accuracy on training set: {}'.format(train_accuracy))\n",
    "\n",
    "eval_accuracy = evaluate_gender_likelihood_on_set(eval_df)\n",
    "print('Accuracy on evaluation set: {}'.format(eval_accuracy))"
   ]
  },
  {
   "cell_type": "markdown",
   "metadata": {},
   "source": [
    "## Approach 2: decision tree on gender\n",
    "Just to double check: we should get the same results as approach 1."
   ]
  },
  {
   "cell_type": "code",
   "execution_count": 50,
   "metadata": {},
   "outputs": [
    {
     "name": "stdout",
     "output_type": "stream",
     "text": [
      "Accuracy: 0.7873134328358209\n"
     ]
    }
   ],
   "source": [
    "from sklearn.preprocessing import LabelEncoder\n",
    "from sklearn.tree import DecisionTreeClassifier\n",
    "\n",
    "gender_encoder = LabelEncoder().fit(train_df['Sex'])\n",
    "tree_classifier = DecisionTreeClassifier().fit(gender_encoder.transform(train_df['Sex']).reshape(-1, 1), train_df['Survived'])\n",
    "\n",
    "accuracy = tree_classifier.score(gender_encoder.transform(eval_df['Sex']).reshape(-1, 1), eval_df['Survived'])\n",
    "print('Accuracy: {}'.format(accuracy))"
   ]
  },
  {
   "cell_type": "markdown",
   "metadata": {},
   "source": [
    "## Approach 3: decision tree on single features\n",
    "This cannot possibly be better than combining all the attributes, but I am curious to see which one is more significant."
   ]
  },
  {
   "cell_type": "code",
   "execution_count": 51,
   "metadata": {},
   "outputs": [
    {
     "name": "stdout",
     "output_type": "stream",
     "text": [
      "Accuracy on Sex: 0.7873134328358209\n",
      "Accuracy on Pclass: 0.6940298507462687\n",
      "Accuracy on Embarked: 0.6417910447761194\n",
      "Accuracy on Title: 0.7910447761194029\n",
      "Accuracy on Floor: 0.7126865671641791\n"
     ]
    }
   ],
   "source": [
    "def tree_classification_on_attribute(attribute_name):\n",
    "    label_encoder = LabelEncoder().fit(train_df[attribute_name].dtype.categories)\n",
    "    encoded_attributes = label_encoder.transform(train_df[attribute_name])\n",
    "    dtc = DecisionTreeClassifier().fit(encoded_attributes.reshape(-1, 1), train_df['Survived'])\n",
    "    acc = dtc.score(label_encoder.transform(eval_df[attribute_name]).reshape(-1, 1), eval_df['Survived'])\n",
    "    return acc\n",
    "\n",
    "# Try on categorical attributes first.\n",
    "categorical_columns = ['Sex', 'Pclass', 'Embarked', 'Title', 'Floor']\n",
    "for attribute_name in categorical_columns:\n",
    "    print('Accuracy on {}: {}'.format(attribute_name, tree_classification_on_attribute(attribute_name)))"
   ]
  },
  {
   "cell_type": "markdown",
   "metadata": {},
   "source": [
    "## Approach 4: tree combining the categorical attributes"
   ]
  },
  {
   "cell_type": "code",
   "execution_count": 52,
   "metadata": {},
   "outputs": [
    {
     "name": "stdout",
     "output_type": "stream",
     "text": [
      "Accuracy combining categorical attributes: 0.8097014925373134\n"
     ]
    }
   ],
   "source": [
    "# DecisionTreeClassifier cannot handle categorical data, so we need to turn all the categorical columns to numerical.\n",
    "dtc = DecisionTreeClassifier().fit(train_df[categorical_columns].apply(lambda x: x.cat.codes), train_df['Survived'])\n",
    "acc = dtc.score(eval_df[categorical_columns].apply(lambda x: x.cat.codes), eval_df['Survived'])\n",
    "print('Accuracy combining categorical attributes: {}'.format(acc))"
   ]
  },
  {
   "cell_type": "code",
   "execution_count": 53,
   "metadata": {},
   "outputs": [
    {
     "data": {
      "text/html": [
       "\n",
       "    <div class=\"bk-root\">\n",
       "        <a href=\"https://bokeh.org\" target=\"_blank\" class=\"bk-logo bk-logo-small bk-logo-notebook\"></a>\n",
       "        <span id=\"1655\">Loading BokehJS ...</span>\n",
       "    </div>"
      ]
     },
     "metadata": {},
     "output_type": "display_data"
    },
    {
     "data": {
      "application/javascript": [
       "\n",
       "(function(root) {\n",
       "  function now() {\n",
       "    return new Date();\n",
       "  }\n",
       "\n",
       "  var force = true;\n",
       "\n",
       "  if (typeof root._bokeh_onload_callbacks === \"undefined\" || force === true) {\n",
       "    root._bokeh_onload_callbacks = [];\n",
       "    root._bokeh_is_loading = undefined;\n",
       "  }\n",
       "\n",
       "  var JS_MIME_TYPE = 'application/javascript';\n",
       "  var HTML_MIME_TYPE = 'text/html';\n",
       "  var EXEC_MIME_TYPE = 'application/vnd.bokehjs_exec.v0+json';\n",
       "  var CLASS_NAME = 'output_bokeh rendered_html';\n",
       "\n",
       "  /**\n",
       "   * Render data to the DOM node\n",
       "   */\n",
       "  function render(props, node) {\n",
       "    var script = document.createElement(\"script\");\n",
       "    node.appendChild(script);\n",
       "  }\n",
       "\n",
       "  /**\n",
       "   * Handle when an output is cleared or removed\n",
       "   */\n",
       "  function handleClearOutput(event, handle) {\n",
       "    var cell = handle.cell;\n",
       "\n",
       "    var id = cell.output_area._bokeh_element_id;\n",
       "    var server_id = cell.output_area._bokeh_server_id;\n",
       "    // Clean up Bokeh references\n",
       "    if (id != null && id in Bokeh.index) {\n",
       "      Bokeh.index[id].model.document.clear();\n",
       "      delete Bokeh.index[id];\n",
       "    }\n",
       "\n",
       "    if (server_id !== undefined) {\n",
       "      // Clean up Bokeh references\n",
       "      var cmd = \"from bokeh.io.state import curstate; print(curstate().uuid_to_server['\" + server_id + \"'].get_sessions()[0].document.roots[0]._id)\";\n",
       "      cell.notebook.kernel.execute(cmd, {\n",
       "        iopub: {\n",
       "          output: function(msg) {\n",
       "            var id = msg.content.text.trim();\n",
       "            if (id in Bokeh.index) {\n",
       "              Bokeh.index[id].model.document.clear();\n",
       "              delete Bokeh.index[id];\n",
       "            }\n",
       "          }\n",
       "        }\n",
       "      });\n",
       "      // Destroy server and session\n",
       "      var cmd = \"import bokeh.io.notebook as ion; ion.destroy_server('\" + server_id + \"')\";\n",
       "      cell.notebook.kernel.execute(cmd);\n",
       "    }\n",
       "  }\n",
       "\n",
       "  /**\n",
       "   * Handle when a new output is added\n",
       "   */\n",
       "  function handleAddOutput(event, handle) {\n",
       "    var output_area = handle.output_area;\n",
       "    var output = handle.output;\n",
       "\n",
       "    // limit handleAddOutput to display_data with EXEC_MIME_TYPE content only\n",
       "    if ((output.output_type != \"display_data\") || (!output.data.hasOwnProperty(EXEC_MIME_TYPE))) {\n",
       "      return\n",
       "    }\n",
       "\n",
       "    var toinsert = output_area.element.find(\".\" + CLASS_NAME.split(' ')[0]);\n",
       "\n",
       "    if (output.metadata[EXEC_MIME_TYPE][\"id\"] !== undefined) {\n",
       "      toinsert[toinsert.length - 1].firstChild.textContent = output.data[JS_MIME_TYPE];\n",
       "      // store reference to embed id on output_area\n",
       "      output_area._bokeh_element_id = output.metadata[EXEC_MIME_TYPE][\"id\"];\n",
       "    }\n",
       "    if (output.metadata[EXEC_MIME_TYPE][\"server_id\"] !== undefined) {\n",
       "      var bk_div = document.createElement(\"div\");\n",
       "      bk_div.innerHTML = output.data[HTML_MIME_TYPE];\n",
       "      var script_attrs = bk_div.children[0].attributes;\n",
       "      for (var i = 0; i < script_attrs.length; i++) {\n",
       "        toinsert[toinsert.length - 1].firstChild.setAttribute(script_attrs[i].name, script_attrs[i].value);\n",
       "      }\n",
       "      // store reference to server id on output_area\n",
       "      output_area._bokeh_server_id = output.metadata[EXEC_MIME_TYPE][\"server_id\"];\n",
       "    }\n",
       "  }\n",
       "\n",
       "  function register_renderer(events, OutputArea) {\n",
       "\n",
       "    function append_mime(data, metadata, element) {\n",
       "      // create a DOM node to render to\n",
       "      var toinsert = this.create_output_subarea(\n",
       "        metadata,\n",
       "        CLASS_NAME,\n",
       "        EXEC_MIME_TYPE\n",
       "      );\n",
       "      this.keyboard_manager.register_events(toinsert);\n",
       "      // Render to node\n",
       "      var props = {data: data, metadata: metadata[EXEC_MIME_TYPE]};\n",
       "      render(props, toinsert[toinsert.length - 1]);\n",
       "      element.append(toinsert);\n",
       "      return toinsert\n",
       "    }\n",
       "\n",
       "    /* Handle when an output is cleared or removed */\n",
       "    events.on('clear_output.CodeCell', handleClearOutput);\n",
       "    events.on('delete.Cell', handleClearOutput);\n",
       "\n",
       "    /* Handle when a new output is added */\n",
       "    events.on('output_added.OutputArea', handleAddOutput);\n",
       "\n",
       "    /**\n",
       "     * Register the mime type and append_mime function with output_area\n",
       "     */\n",
       "    OutputArea.prototype.register_mime_type(EXEC_MIME_TYPE, append_mime, {\n",
       "      /* Is output safe? */\n",
       "      safe: true,\n",
       "      /* Index of renderer in `output_area.display_order` */\n",
       "      index: 0\n",
       "    });\n",
       "  }\n",
       "\n",
       "  // register the mime type if in Jupyter Notebook environment and previously unregistered\n",
       "  if (root.Jupyter !== undefined) {\n",
       "    var events = require('base/js/events');\n",
       "    var OutputArea = require('notebook/js/outputarea').OutputArea;\n",
       "\n",
       "    if (OutputArea.prototype.mime_types().indexOf(EXEC_MIME_TYPE) == -1) {\n",
       "      register_renderer(events, OutputArea);\n",
       "    }\n",
       "  }\n",
       "\n",
       "  \n",
       "  if (typeof (root._bokeh_timeout) === \"undefined\" || force === true) {\n",
       "    root._bokeh_timeout = Date.now() + 5000;\n",
       "    root._bokeh_failed_load = false;\n",
       "  }\n",
       "\n",
       "  var NB_LOAD_WARNING = {'data': {'text/html':\n",
       "     \"<div style='background-color: #fdd'>\\n\"+\n",
       "     \"<p>\\n\"+\n",
       "     \"BokehJS does not appear to have successfully loaded. If loading BokehJS from CDN, this \\n\"+\n",
       "     \"may be due to a slow or bad network connection. Possible fixes:\\n\"+\n",
       "     \"</p>\\n\"+\n",
       "     \"<ul>\\n\"+\n",
       "     \"<li>re-rerun `output_notebook()` to attempt to load from CDN again, or</li>\\n\"+\n",
       "     \"<li>use INLINE resources instead, as so:</li>\\n\"+\n",
       "     \"</ul>\\n\"+\n",
       "     \"<code>\\n\"+\n",
       "     \"from bokeh.resources import INLINE\\n\"+\n",
       "     \"output_notebook(resources=INLINE)\\n\"+\n",
       "     \"</code>\\n\"+\n",
       "     \"</div>\"}};\n",
       "\n",
       "  function display_loaded() {\n",
       "    var el = document.getElementById(\"1655\");\n",
       "    if (el != null) {\n",
       "      el.textContent = \"BokehJS is loading...\";\n",
       "    }\n",
       "    if (root.Bokeh !== undefined) {\n",
       "      if (el != null) {\n",
       "        el.textContent = \"BokehJS \" + root.Bokeh.version + \" successfully loaded.\";\n",
       "      }\n",
       "    } else if (Date.now() < root._bokeh_timeout) {\n",
       "      setTimeout(display_loaded, 100)\n",
       "    }\n",
       "  }\n",
       "\n",
       "\n",
       "  function run_callbacks() {\n",
       "    try {\n",
       "      root._bokeh_onload_callbacks.forEach(function(callback) {\n",
       "        if (callback != null)\n",
       "          callback();\n",
       "      });\n",
       "    } finally {\n",
       "      delete root._bokeh_onload_callbacks\n",
       "    }\n",
       "    console.debug(\"Bokeh: all callbacks have finished\");\n",
       "  }\n",
       "\n",
       "  function load_libs(css_urls, js_urls, callback) {\n",
       "    if (css_urls == null) css_urls = [];\n",
       "    if (js_urls == null) js_urls = [];\n",
       "\n",
       "    root._bokeh_onload_callbacks.push(callback);\n",
       "    if (root._bokeh_is_loading > 0) {\n",
       "      console.debug(\"Bokeh: BokehJS is being loaded, scheduling callback at\", now());\n",
       "      return null;\n",
       "    }\n",
       "    if (js_urls == null || js_urls.length === 0) {\n",
       "      run_callbacks();\n",
       "      return null;\n",
       "    }\n",
       "    console.debug(\"Bokeh: BokehJS not loaded, scheduling load and callback at\", now());\n",
       "    root._bokeh_is_loading = css_urls.length + js_urls.length;\n",
       "\n",
       "    function on_load() {\n",
       "      root._bokeh_is_loading--;\n",
       "      if (root._bokeh_is_loading === 0) {\n",
       "        console.debug(\"Bokeh: all BokehJS libraries/stylesheets loaded\");\n",
       "        run_callbacks()\n",
       "      }\n",
       "    }\n",
       "\n",
       "    function on_error() {\n",
       "      console.error(\"failed to load \" + url);\n",
       "    }\n",
       "\n",
       "    for (var i = 0; i < css_urls.length; i++) {\n",
       "      var url = css_urls[i];\n",
       "      const element = document.createElement(\"link\");\n",
       "      element.onload = on_load;\n",
       "      element.onerror = on_error;\n",
       "      element.rel = \"stylesheet\";\n",
       "      element.type = \"text/css\";\n",
       "      element.href = url;\n",
       "      console.debug(\"Bokeh: injecting link tag for BokehJS stylesheet: \", url);\n",
       "      document.body.appendChild(element);\n",
       "    }\n",
       "\n",
       "    for (var i = 0; i < js_urls.length; i++) {\n",
       "      var url = js_urls[i];\n",
       "      var element = document.createElement('script');\n",
       "      element.onload = on_load;\n",
       "      element.onerror = on_error;\n",
       "      element.async = false;\n",
       "      element.src = url;\n",
       "      console.debug(\"Bokeh: injecting script tag for BokehJS library: \", url);\n",
       "      document.head.appendChild(element);\n",
       "    }\n",
       "  };var element = document.getElementById(\"1655\");\n",
       "  if (element == null) {\n",
       "    console.error(\"Bokeh: ERROR: autoload.js configured with elementid '1655' but no matching script tag was found. \")\n",
       "    return false;\n",
       "  }\n",
       "\n",
       "  function inject_raw_css(css) {\n",
       "    const element = document.createElement(\"style\");\n",
       "    element.appendChild(document.createTextNode(css));\n",
       "    document.body.appendChild(element);\n",
       "  }\n",
       "\n",
       "  \n",
       "  var js_urls = [\"https://cdn.pydata.org/bokeh/release/bokeh-1.4.0.min.js\", \"https://cdn.pydata.org/bokeh/release/bokeh-widgets-1.4.0.min.js\", \"https://cdn.pydata.org/bokeh/release/bokeh-tables-1.4.0.min.js\", \"https://cdn.pydata.org/bokeh/release/bokeh-gl-1.4.0.min.js\"];\n",
       "  var css_urls = [];\n",
       "  \n",
       "\n",
       "  var inline_js = [\n",
       "    function(Bokeh) {\n",
       "      Bokeh.set_log_level(\"info\");\n",
       "    },\n",
       "    function(Bokeh) {\n",
       "    \n",
       "    \n",
       "    }\n",
       "  ];\n",
       "\n",
       "  function run_inline_js() {\n",
       "    \n",
       "    if (root.Bokeh !== undefined || force === true) {\n",
       "      \n",
       "    for (var i = 0; i < inline_js.length; i++) {\n",
       "      inline_js[i].call(root, root.Bokeh);\n",
       "    }\n",
       "    if (force === true) {\n",
       "        display_loaded();\n",
       "      }} else if (Date.now() < root._bokeh_timeout) {\n",
       "      setTimeout(run_inline_js, 100);\n",
       "    } else if (!root._bokeh_failed_load) {\n",
       "      console.log(\"Bokeh: BokehJS failed to load within specified timeout.\");\n",
       "      root._bokeh_failed_load = true;\n",
       "    } else if (force !== true) {\n",
       "      var cell = $(document.getElementById(\"1655\")).parents('.cell').data().cell;\n",
       "      cell.output_area.append_execute_result(NB_LOAD_WARNING)\n",
       "    }\n",
       "\n",
       "  }\n",
       "\n",
       "  if (root._bokeh_is_loading === 0) {\n",
       "    console.debug(\"Bokeh: BokehJS loaded, going straight to plotting\");\n",
       "    run_inline_js();\n",
       "  } else {\n",
       "    load_libs(css_urls, js_urls, function() {\n",
       "      console.debug(\"Bokeh: BokehJS plotting callback run at\", now());\n",
       "      run_inline_js();\n",
       "    });\n",
       "  }\n",
       "}(window));"
      ],
      "application/vnd.bokehjs_load.v0+json": "\n(function(root) {\n  function now() {\n    return new Date();\n  }\n\n  var force = true;\n\n  if (typeof root._bokeh_onload_callbacks === \"undefined\" || force === true) {\n    root._bokeh_onload_callbacks = [];\n    root._bokeh_is_loading = undefined;\n  }\n\n  \n\n  \n  if (typeof (root._bokeh_timeout) === \"undefined\" || force === true) {\n    root._bokeh_timeout = Date.now() + 5000;\n    root._bokeh_failed_load = false;\n  }\n\n  var NB_LOAD_WARNING = {'data': {'text/html':\n     \"<div style='background-color: #fdd'>\\n\"+\n     \"<p>\\n\"+\n     \"BokehJS does not appear to have successfully loaded. If loading BokehJS from CDN, this \\n\"+\n     \"may be due to a slow or bad network connection. Possible fixes:\\n\"+\n     \"</p>\\n\"+\n     \"<ul>\\n\"+\n     \"<li>re-rerun `output_notebook()` to attempt to load from CDN again, or</li>\\n\"+\n     \"<li>use INLINE resources instead, as so:</li>\\n\"+\n     \"</ul>\\n\"+\n     \"<code>\\n\"+\n     \"from bokeh.resources import INLINE\\n\"+\n     \"output_notebook(resources=INLINE)\\n\"+\n     \"</code>\\n\"+\n     \"</div>\"}};\n\n  function display_loaded() {\n    var el = document.getElementById(\"1655\");\n    if (el != null) {\n      el.textContent = \"BokehJS is loading...\";\n    }\n    if (root.Bokeh !== undefined) {\n      if (el != null) {\n        el.textContent = \"BokehJS \" + root.Bokeh.version + \" successfully loaded.\";\n      }\n    } else if (Date.now() < root._bokeh_timeout) {\n      setTimeout(display_loaded, 100)\n    }\n  }\n\n\n  function run_callbacks() {\n    try {\n      root._bokeh_onload_callbacks.forEach(function(callback) {\n        if (callback != null)\n          callback();\n      });\n    } finally {\n      delete root._bokeh_onload_callbacks\n    }\n    console.debug(\"Bokeh: all callbacks have finished\");\n  }\n\n  function load_libs(css_urls, js_urls, callback) {\n    if (css_urls == null) css_urls = [];\n    if (js_urls == null) js_urls = [];\n\n    root._bokeh_onload_callbacks.push(callback);\n    if (root._bokeh_is_loading > 0) {\n      console.debug(\"Bokeh: BokehJS is being loaded, scheduling callback at\", now());\n      return null;\n    }\n    if (js_urls == null || js_urls.length === 0) {\n      run_callbacks();\n      return null;\n    }\n    console.debug(\"Bokeh: BokehJS not loaded, scheduling load and callback at\", now());\n    root._bokeh_is_loading = css_urls.length + js_urls.length;\n\n    function on_load() {\n      root._bokeh_is_loading--;\n      if (root._bokeh_is_loading === 0) {\n        console.debug(\"Bokeh: all BokehJS libraries/stylesheets loaded\");\n        run_callbacks()\n      }\n    }\n\n    function on_error() {\n      console.error(\"failed to load \" + url);\n    }\n\n    for (var i = 0; i < css_urls.length; i++) {\n      var url = css_urls[i];\n      const element = document.createElement(\"link\");\n      element.onload = on_load;\n      element.onerror = on_error;\n      element.rel = \"stylesheet\";\n      element.type = \"text/css\";\n      element.href = url;\n      console.debug(\"Bokeh: injecting link tag for BokehJS stylesheet: \", url);\n      document.body.appendChild(element);\n    }\n\n    for (var i = 0; i < js_urls.length; i++) {\n      var url = js_urls[i];\n      var element = document.createElement('script');\n      element.onload = on_load;\n      element.onerror = on_error;\n      element.async = false;\n      element.src = url;\n      console.debug(\"Bokeh: injecting script tag for BokehJS library: \", url);\n      document.head.appendChild(element);\n    }\n  };var element = document.getElementById(\"1655\");\n  if (element == null) {\n    console.error(\"Bokeh: ERROR: autoload.js configured with elementid '1655' but no matching script tag was found. \")\n    return false;\n  }\n\n  function inject_raw_css(css) {\n    const element = document.createElement(\"style\");\n    element.appendChild(document.createTextNode(css));\n    document.body.appendChild(element);\n  }\n\n  \n  var js_urls = [\"https://cdn.pydata.org/bokeh/release/bokeh-1.4.0.min.js\", \"https://cdn.pydata.org/bokeh/release/bokeh-widgets-1.4.0.min.js\", \"https://cdn.pydata.org/bokeh/release/bokeh-tables-1.4.0.min.js\", \"https://cdn.pydata.org/bokeh/release/bokeh-gl-1.4.0.min.js\"];\n  var css_urls = [];\n  \n\n  var inline_js = [\n    function(Bokeh) {\n      Bokeh.set_log_level(\"info\");\n    },\n    function(Bokeh) {\n    \n    \n    }\n  ];\n\n  function run_inline_js() {\n    \n    if (root.Bokeh !== undefined || force === true) {\n      \n    for (var i = 0; i < inline_js.length; i++) {\n      inline_js[i].call(root, root.Bokeh);\n    }\n    if (force === true) {\n        display_loaded();\n      }} else if (Date.now() < root._bokeh_timeout) {\n      setTimeout(run_inline_js, 100);\n    } else if (!root._bokeh_failed_load) {\n      console.log(\"Bokeh: BokehJS failed to load within specified timeout.\");\n      root._bokeh_failed_load = true;\n    } else if (force !== true) {\n      var cell = $(document.getElementById(\"1655\")).parents('.cell').data().cell;\n      cell.output_area.append_execute_result(NB_LOAD_WARNING)\n    }\n\n  }\n\n  if (root._bokeh_is_loading === 0) {\n    console.debug(\"Bokeh: BokehJS loaded, going straight to plotting\");\n    run_inline_js();\n  } else {\n    load_libs(css_urls, js_urls, function() {\n      console.debug(\"Bokeh: BokehJS plotting callback run at\", now());\n      run_inline_js();\n    });\n  }\n}(window));"
     },
     "metadata": {},
     "output_type": "display_data"
    },
    {
     "data": {
      "text/html": [
       "\n",
       "\n",
       "\n",
       "\n",
       "\n",
       "\n",
       "  <div class=\"bk-root\" id=\"890495f9-6441-4b34-914b-415c3a57492f\" data-root-id=\"1656\"></div>\n"
      ]
     },
     "metadata": {},
     "output_type": "display_data"
    },
    {
     "data": {
      "application/javascript": [
       "(function(root) {\n",
       "  function embed_document(root) {\n",
       "    \n",
       "  var docs_json = {\"10ed3072-02ff-47fe-8d96-71cef0f21792\":{\"roots\":{\"references\":[{\"attributes\":{\"line_alpha\":0.1,\"line_color\":\"#1f77b4\",\"x\":{\"field\":\"x\"},\"y\":{\"field\":\"y\"}},\"id\":\"1736\",\"type\":\"Line\"},{\"attributes\":{\"line_color\":\"orange\",\"x\":{\"field\":\"x\"},\"y\":{\"field\":\"y\"}},\"id\":\"1703\",\"type\":\"Line\"},{\"attributes\":{\"line_alpha\":0.1,\"line_color\":\"#1f77b4\",\"x\":{\"field\":\"x\"},\"y\":{\"field\":\"y\"}},\"id\":\"1704\",\"type\":\"Line\"},{\"attributes\":{\"dimension\":1,\"ticker\":{\"id\":\"1671\",\"type\":\"BasicTicker\"}},\"id\":\"1674\",\"type\":\"Grid\"},{\"attributes\":{\"bottom_units\":\"screen\",\"fill_alpha\":{\"value\":0.5},\"fill_color\":{\"value\":\"lightgrey\"},\"left_units\":\"screen\",\"level\":\"overlay\",\"line_alpha\":{\"value\":1.0},\"line_color\":{\"value\":\"black\"},\"line_dash\":[4,4],\"line_width\":{\"value\":2},\"render_mode\":\"css\",\"right_units\":\"screen\",\"top_units\":\"screen\"},\"id\":\"1699\",\"type\":\"BoxAnnotation\"},{\"attributes\":{},\"id\":\"1678\",\"type\":\"SaveTool\"},{\"attributes\":{},\"id\":\"1810\",\"type\":\"UnionRenderers\"},{\"attributes\":{\"callback\":null},\"id\":\"1657\",\"type\":\"DataRange1d\"},{\"attributes\":{\"line_alpha\":0.1,\"line_color\":\"#1f77b4\",\"x\":{\"field\":\"x\"},\"y\":{\"field\":\"y\"}},\"id\":\"1690\",\"type\":\"Line\"},{\"attributes\":{},\"id\":\"1675\",\"type\":\"PanTool\"},{\"attributes\":{},\"id\":\"1811\",\"type\":\"Selection\"},{\"attributes\":{\"items\":[{\"id\":\"1701\",\"type\":\"LegendItem\"},{\"id\":\"1716\",\"type\":\"LegendItem\"},{\"id\":\"1733\",\"type\":\"LegendItem\"},{\"id\":\"1752\",\"type\":\"LegendItem\"}]},\"id\":\"1700\",\"type\":\"Legend\"},{\"attributes\":{},\"id\":\"1671\",\"type\":\"BasicTicker\"},{\"attributes\":{},\"id\":\"1696\",\"type\":\"BasicTickFormatter\"},{\"attributes\":{\"label\":{\"value\":\"Unbalanced entropy\"},\"renderers\":[{\"id\":\"1691\",\"type\":\"GlyphRenderer\"}]},\"id\":\"1701\",\"type\":\"LegendItem\"},{\"attributes\":{},\"id\":\"1714\",\"type\":\"Selection\"},{\"attributes\":{\"below\":[{\"id\":\"1665\",\"type\":\"LinearAxis\"}],\"center\":[{\"id\":\"1669\",\"type\":\"Grid\"},{\"id\":\"1674\",\"type\":\"Grid\"},{\"id\":\"1700\",\"type\":\"Legend\"}],\"left\":[{\"id\":\"1670\",\"type\":\"LinearAxis\"}],\"renderers\":[{\"id\":\"1691\",\"type\":\"GlyphRenderer\"},{\"id\":\"1705\",\"type\":\"GlyphRenderer\"},{\"id\":\"1720\",\"type\":\"GlyphRenderer\"},{\"id\":\"1737\",\"type\":\"GlyphRenderer\"}],\"title\":{\"id\":\"1693\",\"type\":\"Title\"},\"toolbar\":{\"id\":\"1681\",\"type\":\"Toolbar\"},\"x_range\":{\"id\":\"1657\",\"type\":\"DataRange1d\"},\"x_scale\":{\"id\":\"1661\",\"type\":\"LinearScale\"},\"y_range\":{\"id\":\"1659\",\"type\":\"DataRange1d\"},\"y_scale\":{\"id\":\"1663\",\"type\":\"LinearScale\"}},\"id\":\"1656\",\"subtype\":\"Figure\",\"type\":\"Plot\"},{\"attributes\":{\"data_source\":{\"id\":\"1702\",\"type\":\"ColumnDataSource\"},\"glyph\":{\"id\":\"1703\",\"type\":\"Line\"},\"hover_glyph\":null,\"muted_glyph\":null,\"nonselection_glyph\":{\"id\":\"1704\",\"type\":\"Line\"},\"selection_glyph\":null,\"view\":{\"id\":\"1706\",\"type\":\"CDSView\"}},\"id\":\"1705\",\"type\":\"GlyphRenderer\"},{\"attributes\":{\"line_alpha\":0.1,\"line_color\":\"#1f77b4\",\"x\":{\"field\":\"x\"},\"y\":{\"field\":\"y\"}},\"id\":\"1719\",\"type\":\"Line\"},{\"attributes\":{},\"id\":\"1666\",\"type\":\"BasicTicker\"},{\"attributes\":{\"label\":{\"value\":\"Balanced entropy\"},\"renderers\":[{\"id\":\"1720\",\"type\":\"GlyphRenderer\"}]},\"id\":\"1733\",\"type\":\"LegendItem\"},{\"attributes\":{\"callback\":null},\"id\":\"1659\",\"type\":\"DataRange1d\"},{\"attributes\":{\"line_color\":\"green\",\"x\":{\"field\":\"x\"},\"y\":{\"field\":\"y\"}},\"id\":\"1735\",\"type\":\"Line\"},{\"attributes\":{\"line_color\":\"blue\",\"x\":{\"field\":\"x\"},\"y\":{\"field\":\"y\"}},\"id\":\"1689\",\"type\":\"Line\"},{\"attributes\":{\"axis_label\":\"Max depth\",\"formatter\":{\"id\":\"1698\",\"type\":\"BasicTickFormatter\"},\"ticker\":{\"id\":\"1666\",\"type\":\"BasicTicker\"}},\"id\":\"1665\",\"type\":\"LinearAxis\"},{\"attributes\":{\"data_source\":{\"id\":\"1734\",\"type\":\"ColumnDataSource\"},\"glyph\":{\"id\":\"1735\",\"type\":\"Line\"},\"hover_glyph\":null,\"muted_glyph\":null,\"nonselection_glyph\":{\"id\":\"1736\",\"type\":\"Line\"},\"selection_glyph\":null,\"view\":{\"id\":\"1738\",\"type\":\"CDSView\"}},\"id\":\"1737\",\"type\":\"GlyphRenderer\"},{\"attributes\":{\"source\":{\"id\":\"1717\",\"type\":\"ColumnDataSource\"}},\"id\":\"1721\",\"type\":\"CDSView\"},{\"attributes\":{\"line_color\":\"red\",\"x\":{\"field\":\"x\"},\"y\":{\"field\":\"y\"}},\"id\":\"1718\",\"type\":\"Line\"},{\"attributes\":{},\"id\":\"1680\",\"type\":\"HelpTool\"},{\"attributes\":{\"ticker\":{\"id\":\"1666\",\"type\":\"BasicTicker\"}},\"id\":\"1669\",\"type\":\"Grid\"},{\"attributes\":{\"data_source\":{\"id\":\"1717\",\"type\":\"ColumnDataSource\"},\"glyph\":{\"id\":\"1718\",\"type\":\"Line\"},\"hover_glyph\":null,\"muted_glyph\":null,\"nonselection_glyph\":{\"id\":\"1719\",\"type\":\"Line\"},\"selection_glyph\":null,\"view\":{\"id\":\"1721\",\"type\":\"CDSView\"}},\"id\":\"1720\",\"type\":\"GlyphRenderer\"},{\"attributes\":{},\"id\":\"1663\",\"type\":\"LinearScale\"},{\"attributes\":{\"data_source\":{\"id\":\"1688\",\"type\":\"ColumnDataSource\"},\"glyph\":{\"id\":\"1689\",\"type\":\"Line\"},\"hover_glyph\":null,\"muted_glyph\":null,\"nonselection_glyph\":{\"id\":\"1690\",\"type\":\"Line\"},\"selection_glyph\":null,\"view\":{\"id\":\"1692\",\"type\":\"CDSView\"}},\"id\":\"1691\",\"type\":\"GlyphRenderer\"},{\"attributes\":{\"label\":{\"value\":\"Balanced gini\"},\"renderers\":[{\"id\":\"1737\",\"type\":\"GlyphRenderer\"}]},\"id\":\"1752\",\"type\":\"LegendItem\"},{\"attributes\":{},\"id\":\"1750\",\"type\":\"Selection\"},{\"attributes\":{},\"id\":\"1698\",\"type\":\"BasicTickFormatter\"},{\"attributes\":{\"text\":\"\"},\"id\":\"1693\",\"type\":\"Title\"},{\"attributes\":{\"overlay\":{\"id\":\"1699\",\"type\":\"BoxAnnotation\"}},\"id\":\"1677\",\"type\":\"BoxZoomTool\"},{\"attributes\":{\"source\":{\"id\":\"1688\",\"type\":\"ColumnDataSource\"}},\"id\":\"1692\",\"type\":\"CDSView\"},{\"attributes\":{\"active_drag\":\"auto\",\"active_inspect\":\"auto\",\"active_multi\":null,\"active_scroll\":\"auto\",\"active_tap\":\"auto\",\"tools\":[{\"id\":\"1675\",\"type\":\"PanTool\"},{\"id\":\"1676\",\"type\":\"WheelZoomTool\"},{\"id\":\"1677\",\"type\":\"BoxZoomTool\"},{\"id\":\"1678\",\"type\":\"SaveTool\"},{\"id\":\"1679\",\"type\":\"ResetTool\"},{\"id\":\"1680\",\"type\":\"HelpTool\"}]},\"id\":\"1681\",\"type\":\"Toolbar\"},{\"attributes\":{},\"id\":\"1713\",\"type\":\"UnionRenderers\"},{\"attributes\":{},\"id\":\"1679\",\"type\":\"ResetTool\"},{\"attributes\":{\"callback\":null,\"data\":{\"x\":[1,2,3,4,5,6,7,8,9,10,11,12,13,14,15,16,17,18,19,20],\"y\":{\"__ndarray__\":\"BJWzW/jV6D+Vs1v41ZjoP+FXYyI9UOk/CCpnt/Cr6T8IKme38KvpP3YLvxoT6ek/vxoT6YHK6T92C78aE+npP3YLvxoT6ek/dgu/GhPp6T92C78aE+npP3YLvxoT6ek/dgu/GhPp6T92C78aE+npP3YLvxoT6ek/dgu/GhPp6T92C78aE+npP3YLvxoT6ek/dgu/GhPp6T92C78aE+npPw==\",\"dtype\":\"float64\",\"shape\":[20]}},\"selected\":{\"id\":\"1750\",\"type\":\"Selection\"},\"selection_policy\":{\"id\":\"1749\",\"type\":\"UnionRenderers\"}},\"id\":\"1717\",\"type\":\"ColumnDataSource\"},{\"attributes\":{\"callback\":null,\"data\":{\"x\":[1,2,3,4,5,6,7,8,9,10,11,12,13,14,15,16,17,18,19,20],\"y\":{\"__ndarray__\":\"BJWzW/jV6D+7hV+NifToP3YLvxoT6ek/vxoT6YHK6T92C78aE+npP3YLvxoT6ek/LvxqTKQH6j92C78aE+npP3YLvxoT6ek/dgu/GhPp6T92C78aE+npP3YLvxoT6ek/dgu/GhPp6T92C78aE+npP3YLvxoT6ek/dgu/GhPp6T92C78aE+npP3YLvxoT6ek/dgu/GhPp6T92C78aE+npPw==\",\"dtype\":\"float64\",\"shape\":[20]}},\"selected\":{\"id\":\"1714\",\"type\":\"Selection\"},\"selection_policy\":{\"id\":\"1713\",\"type\":\"UnionRenderers\"}},\"id\":\"1688\",\"type\":\"ColumnDataSource\"},{\"attributes\":{},\"id\":\"1749\",\"type\":\"UnionRenderers\"},{\"attributes\":{\"callback\":null,\"data\":{\"x\":[1,2,3,4,5,6,7,8,9,10,11,12,13,14,15,16,17,18,19,20],\"y\":{\"__ndarray__\":\"BJWzW/jV6D+Vs1v41ZjoP+FXYyI9UOk/CCpnt/Cr6T+/GhPpgcrpPy78akykB+o/LvxqTKQH6j92C78aE+npP3YLvxoT6ek/dgu/GhPp6T92C78aE+npP3YLvxoT6ek/dgu/GhPp6T92C78aE+npPy78akykB+o/dgu/GhPp6T92C78aE+npP3YLvxoT6ek/dgu/GhPp6T92C78aE+npPw==\",\"dtype\":\"float64\",\"shape\":[20]}},\"selected\":{\"id\":\"1811\",\"type\":\"Selection\"},\"selection_policy\":{\"id\":\"1810\",\"type\":\"UnionRenderers\"}},\"id\":\"1734\",\"type\":\"ColumnDataSource\"},{\"attributes\":{\"source\":{\"id\":\"1734\",\"type\":\"ColumnDataSource\"}},\"id\":\"1738\",\"type\":\"CDSView\"},{\"attributes\":{},\"id\":\"1730\",\"type\":\"UnionRenderers\"},{\"attributes\":{\"label\":{\"value\":\"Unbalanced gini\"},\"renderers\":[{\"id\":\"1705\",\"type\":\"GlyphRenderer\"}]},\"id\":\"1716\",\"type\":\"LegendItem\"},{\"attributes\":{\"source\":{\"id\":\"1702\",\"type\":\"ColumnDataSource\"}},\"id\":\"1706\",\"type\":\"CDSView\"},{\"attributes\":{\"callback\":null,\"data\":{\"x\":[1,2,3,4,5,6,7,8,9,10,11,12,13,14,15,16,17,18,19,20],\"y\":{\"__ndarray__\":\"BJWzW/jV6D+7hV+NifToP3YLvxoT6ek/vxoT6YHK6T92C78aE+npPy78akykB+o/vxoT6YHK6T92C78aE+npP3YLvxoT6ek/dgu/GhPp6T92C78aE+npP3YLvxoT6ek/dgu/GhPp6T92C78aE+npP3YLvxoT6ek/dgu/GhPp6T92C78aE+npP3YLvxoT6ek/dgu/GhPp6T92C78aE+npPw==\",\"dtype\":\"float64\",\"shape\":[20]}},\"selected\":{\"id\":\"1731\",\"type\":\"Selection\"},\"selection_policy\":{\"id\":\"1730\",\"type\":\"UnionRenderers\"}},\"id\":\"1702\",\"type\":\"ColumnDataSource\"},{\"attributes\":{},\"id\":\"1731\",\"type\":\"Selection\"},{\"attributes\":{\"axis_label\":\"DTC accuracy\",\"formatter\":{\"id\":\"1696\",\"type\":\"BasicTickFormatter\"},\"ticker\":{\"id\":\"1671\",\"type\":\"BasicTicker\"}},\"id\":\"1670\",\"type\":\"LinearAxis\"},{\"attributes\":{},\"id\":\"1676\",\"type\":\"WheelZoomTool\"},{\"attributes\":{},\"id\":\"1661\",\"type\":\"LinearScale\"}],\"root_ids\":[\"1656\"]},\"title\":\"Bokeh Application\",\"version\":\"1.4.0\"}};\n",
       "  var render_items = [{\"docid\":\"10ed3072-02ff-47fe-8d96-71cef0f21792\",\"roots\":{\"1656\":\"890495f9-6441-4b34-914b-415c3a57492f\"}}];\n",
       "  root.Bokeh.embed.embed_items_notebook(docs_json, render_items);\n",
       "\n",
       "  }\n",
       "  if (root.Bokeh !== undefined) {\n",
       "    embed_document(root);\n",
       "  } else {\n",
       "    var attempts = 0;\n",
       "    var timer = setInterval(function(root) {\n",
       "      if (root.Bokeh !== undefined) {\n",
       "        clearInterval(timer);\n",
       "        embed_document(root);\n",
       "      } else {\n",
       "        attempts++;\n",
       "        if (attempts > 100) {\n",
       "          clearInterval(timer);\n",
       "          console.log(\"Bokeh: ERROR: Unable to run BokehJS code because BokehJS library is missing\");\n",
       "        }\n",
       "      }\n",
       "    }, 10, root)\n",
       "  }\n",
       "})(window);"
      ],
      "application/vnd.bokehjs_exec.v0+json": ""
     },
     "metadata": {
      "application/vnd.bokehjs_exec.v0+json": {
       "id": "1656"
      }
     },
     "output_type": "display_data"
    },
    {
     "name": "stdout",
     "output_type": "stream",
     "text": [
      "Max accuracy: 0.8134328358208955\n"
     ]
    }
   ],
   "source": [
    "import numpy as np\n",
    "from bokeh.plotting import figure, show, output_notebook\n",
    "\n",
    "output_notebook()\n",
    "\n",
    "# Quick experiment on tree parameters.\n",
    "def _compute_dtc_score(criterion, max_depth, class_weight):\n",
    "    return DecisionTreeClassifier(class_weight=class_weight,\n",
    "                                  criterion=criterion,\n",
    "                                  max_depth=max_depth)\\\n",
    "            .fit(train_df[categorical_columns].apply(lambda x: x.cat.codes),\n",
    "                train_df['Survived'])\\\n",
    "            .score(eval_df[categorical_columns].apply(lambda x: x.cat.codes),\n",
    "                  eval_df['Survived'])\n",
    "\n",
    "criteria = ['entropy', 'gini']\n",
    "max_allowed_depth = 20\n",
    "accuracies = np.zeros((2, len(criteria), max_allowed_depth))\n",
    "for idx0, class_weight in enumerate([None, 'balanced']):\n",
    "    for idx1, criterion in enumerate(criteria):\n",
    "        for idx2, max_depth in enumerate(range(1, max_allowed_depth + 1)):\n",
    "            accuracies[idx0, idx1, idx2] = _compute_dtc_score(criterion, max_depth, class_weight)\n",
    "\n",
    "dt_plot = figure()\n",
    "dt_plot.line(range(1, max_allowed_depth + 1), accuracies[0, 0, :], color='blue', legend_label='Unbalanced {}'.format(criteria[0]))\n",
    "dt_plot.line(range(1, max_allowed_depth + 1), accuracies[0, 1, :], color='orange', legend_label='Unbalanced {}'.format(criteria[1]))\n",
    "dt_plot.line(range(1, max_allowed_depth + 1), accuracies[1, 0, :], color='red', legend_label='Balanced {}'.format(criteria[0]))\n",
    "dt_plot.line(range(1, max_allowed_depth + 1), accuracies[1, 1, :], color='green', legend_label='Balanced {}'.format(criteria[1]))\n",
    "dt_plot.xaxis.axis_label = 'Max depth'\n",
    "dt_plot.yaxis.axis_label = 'DTC accuracy'\n",
    "show(dt_plot)\n",
    "\n",
    "print('Max accuracy: {}'.format(np.max(accuracies)))"
   ]
  },
  {
   "cell_type": "markdown",
   "metadata": {},
   "source": [
    "## Approach 5: tree on a single continuous attribute"
   ]
  },
  {
   "cell_type": "code",
   "execution_count": 54,
   "metadata": {},
   "outputs": [
    {
     "name": "stdout",
     "output_type": "stream",
     "text": [
      "Accuracy on SibSp: 0.6231343283582089\n",
      "Accuracy on Parch: 0.6492537313432836\n",
      "Accuracy on Fare: 0.7164179104477612\n"
     ]
    }
   ],
   "source": [
    "def tree_classification_on_attribute(attribute_name):\n",
    "    return DecisionTreeClassifier().fit(train_df[attribute_name].values.reshape(-1, 1),\n",
    "                                        train_df['Survived'])\\\n",
    "            .score(eval_df[attribute_name].values.reshape(-1, 1),\n",
    "                                        eval_df['Survived'])\n",
    "\n",
    "numerical_columns = ['SibSp', 'Parch', 'Fare']\n",
    "for attribute_name in numerical_columns:\n",
    "    print('Accuracy on {}: {}'.format(attribute_name, tree_classification_on_attribute(attribute_name)))"
   ]
  },
  {
   "cell_type": "markdown",
   "metadata": {},
   "source": [
    "## Approach 6: tree on all the attributes"
   ]
  },
  {
   "cell_type": "code",
   "execution_count": 60,
   "metadata": {},
   "outputs": [],
   "source": [
    "attributes = [\n",
    "    'Pclass',\n",
    "    'Sex',\n",
    "    'Age',\n",
    "    'SibSp',\n",
    "    'Parch',\n",
    "    'Fare',\n",
    "    'Embarked',\n",
    "    'Title',\n",
    "    'TicketNumber',\n",
    "    'Floor',\n",
    "]\n",
    "\n",
    "train_df.dropna(axis='index', how='any', inplace=True)\n",
    "eval_df.dropna(axis='index', how='any', inplace=True)\n",
    "\n",
    "categorical_columns = train_df.select_dtypes('category').columns\n",
    "train_df[categorical_columns] = train_df[categorical_columns].apply(lambda x: x.cat.codes)\n",
    "eval_df[categorical_columns] = eval_df[categorical_columns].apply(lambda x: x.cat.codes)"
   ]
  },
  {
   "cell_type": "code",
   "execution_count": 61,
   "metadata": {},
   "outputs": [
    {
     "data": {
      "text/html": [
       "\n",
       "\n",
       "\n",
       "\n",
       "\n",
       "\n",
       "  <div class=\"bk-root\" id=\"92ccc44a-e1be-412f-b6f0-46b0501f9a9d\" data-root-id=\"1903\"></div>\n"
      ]
     },
     "metadata": {},
     "output_type": "display_data"
    },
    {
     "data": {
      "application/javascript": [
       "(function(root) {\n",
       "  function embed_document(root) {\n",
       "    \n",
       "  var docs_json = {\"bb4bf591-85ad-42e1-9959-c81727b201a2\":{\"roots\":{\"references\":[{\"attributes\":{},\"id\":\"2073\",\"type\":\"Selection\"},{\"attributes\":{\"source\":{\"id\":\"1935\",\"type\":\"ColumnDataSource\"}},\"id\":\"1939\",\"type\":\"CDSView\"},{\"attributes\":{},\"id\":\"1922\",\"type\":\"PanTool\"},{\"attributes\":{\"line_color\":\"orange\",\"x\":{\"field\":\"x\"},\"y\":{\"field\":\"y\"}},\"id\":\"1950\",\"type\":\"Line\"},{\"attributes\":{\"source\":{\"id\":\"1981\",\"type\":\"ColumnDataSource\"}},\"id\":\"1985\",\"type\":\"CDSView\"},{\"attributes\":{\"line_color\":\"blue\",\"x\":{\"field\":\"x\"},\"y\":{\"field\":\"y\"}},\"id\":\"1936\",\"type\":\"Line\"},{\"attributes\":{\"line_alpha\":0.1,\"line_color\":\"#1f77b4\",\"x\":{\"field\":\"x\"},\"y\":{\"field\":\"y\"}},\"id\":\"1966\",\"type\":\"Line\"},{\"attributes\":{\"data_source\":{\"id\":\"1964\",\"type\":\"ColumnDataSource\"},\"glyph\":{\"id\":\"1965\",\"type\":\"Line\"},\"hover_glyph\":null,\"muted_glyph\":null,\"nonselection_glyph\":{\"id\":\"1966\",\"type\":\"Line\"},\"selection_glyph\":null,\"view\":{\"id\":\"1968\",\"type\":\"CDSView\"}},\"id\":\"1967\",\"type\":\"GlyphRenderer\"},{\"attributes\":{\"line_color\":\"green\",\"x\":{\"field\":\"x\"},\"y\":{\"field\":\"y\"}},\"id\":\"1982\",\"type\":\"Line\"},{\"attributes\":{},\"id\":\"1997\",\"type\":\"Selection\"},{\"attributes\":{},\"id\":\"1926\",\"type\":\"ResetTool\"},{\"attributes\":{\"callback\":null,\"data\":{\"x\":[1,2,3,4,5,6,7,8,9,10,11,12,13,14,15,16,17,18,19,20],\"y\":{\"__ndarray__\":\"aY3WaI3W6D9pjdZojdboP6uqqqqqquo/6qAO6qAO6j+rqqqqqqrqP2u0Rmu0Rus/yqVcyqVc6j9aozVaozXqP3qe53me5+k/mpmZmZmZ6T/qoA7qoA7qP3qe53me5+k/6qAO6qAO6j9pjdZojdboP0mSJEmSJOk/2Y/92I/96D/Zj/3Yj/3oP9mP/diP/eg/KZdyKZdy6T+amZmZmZnpPw==\",\"dtype\":\"float64\",\"shape\":[20]}},\"selected\":{\"id\":\"1997\",\"type\":\"Selection\"},\"selection_policy\":{\"id\":\"1996\",\"type\":\"UnionRenderers\"}},\"id\":\"1964\",\"type\":\"ColumnDataSource\"},{\"attributes\":{},\"id\":\"1960\",\"type\":\"UnionRenderers\"},{\"attributes\":{\"data_source\":{\"id\":\"1949\",\"type\":\"ColumnDataSource\"},\"glyph\":{\"id\":\"1950\",\"type\":\"Line\"},\"hover_glyph\":null,\"muted_glyph\":null,\"nonselection_glyph\":{\"id\":\"1951\",\"type\":\"Line\"},\"selection_glyph\":null,\"view\":{\"id\":\"1953\",\"type\":\"CDSView\"}},\"id\":\"1952\",\"type\":\"GlyphRenderer\"},{\"attributes\":{},\"id\":\"1977\",\"type\":\"UnionRenderers\"},{\"attributes\":{\"ticker\":{\"id\":\"1913\",\"type\":\"BasicTicker\"}},\"id\":\"1916\",\"type\":\"Grid\"},{\"attributes\":{\"line_alpha\":0.1,\"line_color\":\"#1f77b4\",\"x\":{\"field\":\"x\"},\"y\":{\"field\":\"y\"}},\"id\":\"1937\",\"type\":\"Line\"},{\"attributes\":{},\"id\":\"1908\",\"type\":\"LinearScale\"},{\"attributes\":{\"axis_label\":\"DTC accuracy\",\"formatter\":{\"id\":\"1943\",\"type\":\"BasicTickFormatter\"},\"ticker\":{\"id\":\"1918\",\"type\":\"BasicTicker\"}},\"id\":\"1917\",\"type\":\"LinearAxis\"},{\"attributes\":{\"source\":{\"id\":\"1949\",\"type\":\"ColumnDataSource\"}},\"id\":\"1953\",\"type\":\"CDSView\"},{\"attributes\":{},\"id\":\"1927\",\"type\":\"HelpTool\"},{\"attributes\":{\"line_alpha\":0.1,\"line_color\":\"#1f77b4\",\"x\":{\"field\":\"x\"},\"y\":{\"field\":\"y\"}},\"id\":\"1951\",\"type\":\"Line\"},{\"attributes\":{\"data_source\":{\"id\":\"1981\",\"type\":\"ColumnDataSource\"},\"glyph\":{\"id\":\"1982\",\"type\":\"Line\"},\"hover_glyph\":null,\"muted_glyph\":null,\"nonselection_glyph\":{\"id\":\"1983\",\"type\":\"Line\"},\"selection_glyph\":null,\"view\":{\"id\":\"1985\",\"type\":\"CDSView\"}},\"id\":\"1984\",\"type\":\"GlyphRenderer\"},{\"attributes\":{\"data_source\":{\"id\":\"1935\",\"type\":\"ColumnDataSource\"},\"glyph\":{\"id\":\"1936\",\"type\":\"Line\"},\"hover_glyph\":null,\"muted_glyph\":null,\"nonselection_glyph\":{\"id\":\"1937\",\"type\":\"Line\"},\"selection_glyph\":null,\"view\":{\"id\":\"1939\",\"type\":\"CDSView\"}},\"id\":\"1938\",\"type\":\"GlyphRenderer\"},{\"attributes\":{},\"id\":\"1910\",\"type\":\"LinearScale\"},{\"attributes\":{\"label\":{\"value\":\"Unbalanced gini\"},\"renderers\":[{\"id\":\"1952\",\"type\":\"GlyphRenderer\"}]},\"id\":\"1963\",\"type\":\"LegendItem\"},{\"attributes\":{\"callback\":null,\"data\":{\"x\":[1,2,3,4,5,6,7,8,9,10,11,12,13,14,15,16,17,18,19,20],\"y\":{\"__ndarray__\":\"aY3WaI3W6D9pjdZojdboP6uqqqqqquo/6qAO6qAO6j96nud5nufpP3qe53me5+k/O6iDOqiD6j96nud5nufpP0mSJEmSJOk/aY3WaI3W6D/Zj/3Yj/3oP0mSJEmSJOk/uZRLuZRL6T9pjdZojdboP0mSJEmSJOk/SZIkSZIk6T9pjdZojdboP/mKr/iKr+g/SZIkSZIk6T9pjdZojdboPw==\",\"dtype\":\"float64\",\"shape\":[20]}},\"selected\":{\"id\":\"2073\",\"type\":\"Selection\"},\"selection_policy\":{\"id\":\"2072\",\"type\":\"UnionRenderers\"}},\"id\":\"1981\",\"type\":\"ColumnDataSource\"},{\"attributes\":{},\"id\":\"1913\",\"type\":\"BasicTicker\"},{\"attributes\":{},\"id\":\"1961\",\"type\":\"Selection\"},{\"attributes\":{\"items\":[{\"id\":\"1948\",\"type\":\"LegendItem\"},{\"id\":\"1963\",\"type\":\"LegendItem\"},{\"id\":\"1980\",\"type\":\"LegendItem\"},{\"id\":\"1999\",\"type\":\"LegendItem\"}]},\"id\":\"1947\",\"type\":\"Legend\"},{\"attributes\":{\"label\":{\"value\":\"Balanced gini\"},\"renderers\":[{\"id\":\"1984\",\"type\":\"GlyphRenderer\"}]},\"id\":\"1999\",\"type\":\"LegendItem\"},{\"attributes\":{\"callback\":null,\"data\":{\"x\":[1,2,3,4,5,6,7,8,9,10,11,12,13,14,15,16,17,18,19,20],\"y\":{\"__ndarray__\":\"aY3WaI3W6D9JkiRJkiTpP6uqqqqqquo/yqVcyqVc6j8brdEardHqP2u0Rmu0Rus/27Zt27Zt6z87qIM6qIPqP2u0Rmu0Rus/+7Ef+7Ef6z+rqqqqqqrqP1qjNVqjNeo/yqVcyqVc6j96nud5nufpP5qZmZmZmek/yqVcyqVc6j96nud5nufpPwqcwAmcwOk/ep7neZ7n6T9aozVaozXqPw==\",\"dtype\":\"float64\",\"shape\":[20]}},\"selected\":{\"id\":\"1961\",\"type\":\"Selection\"},\"selection_policy\":{\"id\":\"1960\",\"type\":\"UnionRenderers\"}},\"id\":\"1935\",\"type\":\"ColumnDataSource\"},{\"attributes\":{\"below\":[{\"id\":\"1912\",\"type\":\"LinearAxis\"}],\"center\":[{\"id\":\"1916\",\"type\":\"Grid\"},{\"id\":\"1921\",\"type\":\"Grid\"},{\"id\":\"1947\",\"type\":\"Legend\"}],\"left\":[{\"id\":\"1917\",\"type\":\"LinearAxis\"}],\"renderers\":[{\"id\":\"1938\",\"type\":\"GlyphRenderer\"},{\"id\":\"1952\",\"type\":\"GlyphRenderer\"},{\"id\":\"1967\",\"type\":\"GlyphRenderer\"},{\"id\":\"1984\",\"type\":\"GlyphRenderer\"}],\"title\":{\"id\":\"1940\",\"type\":\"Title\"},\"toolbar\":{\"id\":\"1928\",\"type\":\"Toolbar\"},\"x_range\":{\"id\":\"1904\",\"type\":\"DataRange1d\"},\"x_scale\":{\"id\":\"1908\",\"type\":\"LinearScale\"},\"y_range\":{\"id\":\"1906\",\"type\":\"DataRange1d\"},\"y_scale\":{\"id\":\"1910\",\"type\":\"LinearScale\"}},\"id\":\"1903\",\"subtype\":\"Figure\",\"type\":\"Plot\"},{\"attributes\":{\"callback\":null,\"data\":{\"x\":[1,2,3,4,5,6,7,8,9,10,11,12,13,14,15,16,17,18,19,20],\"y\":{\"__ndarray__\":\"aY3WaI3W6D9JkiRJkiTpP6uqqqqqquo/yqVcyqVc6j87qIM6qIPqP6uqqqqqquo/6qAO6qAO6j9aozVaozXqP1qjNVqjNeo/6qAO6qAO6j/qoA7qoA7qPwqcwAmcwOk/ep7neZ7n6T+5lEu5lEvpP0mSJEmSJOk/KZdyKZdy6T9JkiRJkiTpP0mSJEmSJOk/uZRLuZRL6T/qoA7qoA7qPw==\",\"dtype\":\"float64\",\"shape\":[20]}},\"selected\":{\"id\":\"1978\",\"type\":\"Selection\"},\"selection_policy\":{\"id\":\"1977\",\"type\":\"UnionRenderers\"}},\"id\":\"1949\",\"type\":\"ColumnDataSource\"},{\"attributes\":{},\"id\":\"1925\",\"type\":\"SaveTool\"},{\"attributes\":{\"line_color\":\"red\",\"x\":{\"field\":\"x\"},\"y\":{\"field\":\"y\"}},\"id\":\"1965\",\"type\":\"Line\"},{\"attributes\":{},\"id\":\"1943\",\"type\":\"BasicTickFormatter\"},{\"attributes\":{\"label\":{\"value\":\"Balanced entropy\"},\"renderers\":[{\"id\":\"1967\",\"type\":\"GlyphRenderer\"}]},\"id\":\"1980\",\"type\":\"LegendItem\"},{\"attributes\":{\"source\":{\"id\":\"1964\",\"type\":\"ColumnDataSource\"}},\"id\":\"1968\",\"type\":\"CDSView\"},{\"attributes\":{\"callback\":null},\"id\":\"1906\",\"type\":\"DataRange1d\"},{\"attributes\":{\"label\":{\"value\":\"Unbalanced entropy\"},\"renderers\":[{\"id\":\"1938\",\"type\":\"GlyphRenderer\"}]},\"id\":\"1948\",\"type\":\"LegendItem\"},{\"attributes\":{\"bottom_units\":\"screen\",\"fill_alpha\":{\"value\":0.5},\"fill_color\":{\"value\":\"lightgrey\"},\"left_units\":\"screen\",\"level\":\"overlay\",\"line_alpha\":{\"value\":1.0},\"line_color\":{\"value\":\"black\"},\"line_dash\":[4,4],\"line_width\":{\"value\":2},\"render_mode\":\"css\",\"right_units\":\"screen\",\"top_units\":\"screen\"},\"id\":\"1946\",\"type\":\"BoxAnnotation\"},{\"attributes\":{\"dimension\":1,\"ticker\":{\"id\":\"1918\",\"type\":\"BasicTicker\"}},\"id\":\"1921\",\"type\":\"Grid\"},{\"attributes\":{},\"id\":\"1918\",\"type\":\"BasicTicker\"},{\"attributes\":{\"overlay\":{\"id\":\"1946\",\"type\":\"BoxAnnotation\"}},\"id\":\"1924\",\"type\":\"BoxZoomTool\"},{\"attributes\":{\"axis_label\":\"Max depth\",\"formatter\":{\"id\":\"1945\",\"type\":\"BasicTickFormatter\"},\"ticker\":{\"id\":\"1913\",\"type\":\"BasicTicker\"}},\"id\":\"1912\",\"type\":\"LinearAxis\"},{\"attributes\":{},\"id\":\"1945\",\"type\":\"BasicTickFormatter\"},{\"attributes\":{\"callback\":null},\"id\":\"1904\",\"type\":\"DataRange1d\"},{\"attributes\":{\"line_alpha\":0.1,\"line_color\":\"#1f77b4\",\"x\":{\"field\":\"x\"},\"y\":{\"field\":\"y\"}},\"id\":\"1983\",\"type\":\"Line\"},{\"attributes\":{},\"id\":\"1923\",\"type\":\"WheelZoomTool\"},{\"attributes\":{\"text\":\"\"},\"id\":\"1940\",\"type\":\"Title\"},{\"attributes\":{\"active_drag\":\"auto\",\"active_inspect\":\"auto\",\"active_multi\":null,\"active_scroll\":\"auto\",\"active_tap\":\"auto\",\"tools\":[{\"id\":\"1922\",\"type\":\"PanTool\"},{\"id\":\"1923\",\"type\":\"WheelZoomTool\"},{\"id\":\"1924\",\"type\":\"BoxZoomTool\"},{\"id\":\"1925\",\"type\":\"SaveTool\"},{\"id\":\"1926\",\"type\":\"ResetTool\"},{\"id\":\"1927\",\"type\":\"HelpTool\"}]},\"id\":\"1928\",\"type\":\"Toolbar\"},{\"attributes\":{},\"id\":\"1978\",\"type\":\"Selection\"},{\"attributes\":{},\"id\":\"1996\",\"type\":\"UnionRenderers\"},{\"attributes\":{},\"id\":\"2072\",\"type\":\"UnionRenderers\"}],\"root_ids\":[\"1903\"]},\"title\":\"Bokeh Application\",\"version\":\"1.4.0\"}};\n",
       "  var render_items = [{\"docid\":\"bb4bf591-85ad-42e1-9959-c81727b201a2\",\"roots\":{\"1903\":\"92ccc44a-e1be-412f-b6f0-46b0501f9a9d\"}}];\n",
       "  root.Bokeh.embed.embed_items_notebook(docs_json, render_items);\n",
       "\n",
       "  }\n",
       "  if (root.Bokeh !== undefined) {\n",
       "    embed_document(root);\n",
       "  } else {\n",
       "    var attempts = 0;\n",
       "    var timer = setInterval(function(root) {\n",
       "      if (root.Bokeh !== undefined) {\n",
       "        clearInterval(timer);\n",
       "        embed_document(root);\n",
       "      } else {\n",
       "        attempts++;\n",
       "        if (attempts > 100) {\n",
       "          clearInterval(timer);\n",
       "          console.log(\"Bokeh: ERROR: Unable to run BokehJS code because BokehJS library is missing\");\n",
       "        }\n",
       "      }\n",
       "    }, 10, root)\n",
       "  }\n",
       "})(window);"
      ],
      "application/vnd.bokehjs_exec.v0+json": ""
     },
     "metadata": {
      "application/vnd.bokehjs_exec.v0+json": {
       "id": "1903"
      }
     },
     "output_type": "display_data"
    },
    {
     "name": "stdout",
     "output_type": "stream",
     "text": [
      "Max accuracy: 0.8571428571428571\n"
     ]
    }
   ],
   "source": [
    "# Quick experiment on tree parameters.\n",
    "def _compute_dtc_score(criterion, max_depth, class_weight):\n",
    "    return DecisionTreeClassifier(class_weight=class_weight,\n",
    "                                  criterion=criterion,\n",
    "                                  max_depth=max_depth)\\\n",
    "            .fit(train_df[attributes], train_df['Survived'])\\\n",
    "            .score(eval_df[attributes], eval_df['Survived'])\n",
    "\n",
    "criteria = ['entropy', 'gini']\n",
    "max_allowed_depth = 20\n",
    "accuracies = np.zeros((2, len(criteria), max_allowed_depth))\n",
    "for idx0, class_weight in enumerate([None, 'balanced']):\n",
    "    for idx1, criterion in enumerate(criteria):\n",
    "        for idx2, max_depth in enumerate(range(1, max_allowed_depth + 1)):\n",
    "            accuracies[idx0, idx1, idx2] = _compute_dtc_score(criterion, max_depth, class_weight)\n",
    "\n",
    "dt_plot = figure()\n",
    "dt_plot.line(range(1, max_allowed_depth + 1), accuracies[0, 0, :], color='blue', legend_label='Unbalanced {}'.format(criteria[0]))\n",
    "dt_plot.line(range(1, max_allowed_depth + 1), accuracies[0, 1, :], color='orange', legend_label='Unbalanced {}'.format(criteria[1]))\n",
    "dt_plot.line(range(1, max_allowed_depth + 1), accuracies[1, 0, :], color='red', legend_label='Balanced {}'.format(criteria[0]))\n",
    "dt_plot.line(range(1, max_allowed_depth + 1), accuracies[1, 1, :], color='green', legend_label='Balanced {}'.format(criteria[1]))\n",
    "dt_plot.xaxis.axis_label = 'Max depth'\n",
    "dt_plot.yaxis.axis_label = 'DTC accuracy'\n",
    "show(dt_plot)\n",
    "\n",
    "print('Max accuracy: {}'.format(np.max(accuracies)))"
   ]
  },
  {
   "cell_type": "code",
   "execution_count": null,
   "metadata": {},
   "outputs": [],
   "source": []
  }
 ],
 "metadata": {
  "kernelspec": {
   "display_name": "Python 3",
   "language": "python",
   "name": "python3"
  },
  "language_info": {
   "codemirror_mode": {
    "name": "ipython",
    "version": 3
   },
   "file_extension": ".py",
   "mimetype": "text/x-python",
   "name": "python",
   "nbconvert_exporter": "python",
   "pygments_lexer": "ipython3",
   "version": "3.5.2"
  }
 },
 "nbformat": 4,
 "nbformat_minor": 4
}
