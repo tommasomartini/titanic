{
 "cells": [
  {
   "cell_type": "markdown",
   "metadata": {},
   "source": [
    "# Merge\n",
    "This notebook merges the original Kaggle dataset with the data we downloaded.\n",
    "In general, we are going to trust the downloaded data more than the Kaggle dataset."
   ]
  },
  {
   "cell_type": "code",
   "execution_count": 16,
   "metadata": {},
   "outputs": [
    {
     "data": {
      "text/plain": [
       "PassengerId              0\n",
       "Pclass                   0\n",
       "Name                     0\n",
       "Sex                      0\n",
       "Age                    263\n",
       "SibSp                    0\n",
       "Parch                    0\n",
       "Ticket                   0\n",
       "Fare                     1\n",
       "Cabin                 1014\n",
       "Embarked                 2\n",
       "LastName                 0\n",
       "FirstName                0\n",
       "Title                    0\n",
       "UnmarriedFirstName       0\n",
       "UnmarriedLastName        0\n",
       "TicketNumber             4\n",
       "dtype: int64"
      ]
     },
     "execution_count": 16,
     "metadata": {},
     "output_type": "execute_result"
    }
   ],
   "source": [
    "# Load and format the data provided by Kaggle.\n",
    "import pandas as pd\n",
    "import dataset as ds\n",
    "import preprocessing as pp\n",
    "\n",
    "X_dataset, y_dataset = ds.load_training_set()\n",
    "X_testset = ds.load_test_set()\n",
    "\n",
    "df = pd.merge(X_dataset.reset_index(), X_testset.reset_index(), how='outer').set_index(ds.ID_COLUMN_NAME)\n",
    "\n",
    "df = pp.manual_fixes(df)\n",
    "df = pp.format_name(df)\n",
    "df = pp.add_ticket_number_column(df)\n",
    "df = df.reset_index()\n",
    "\n",
    "df.isna().sum()"
   ]
  },
  {
   "cell_type": "code",
   "execution_count": 17,
   "metadata": {},
   "outputs": [
    {
     "data": {
      "text/plain": [
       "Unnamed: 0               0\n",
       "Age                      2\n",
       "BirthDate                2\n",
       "BirthPlace             479\n",
       "Cabin                 1900\n",
       "Destination           1304\n",
       "Embarked                 0\n",
       "FirstName                0\n",
       "Job                    606\n",
       "LastName                 0\n",
       "MaritalStatus          785\n",
       "Nationality              0\n",
       "Pclass                   0\n",
       "Relationships            0\n",
       "Residence              110\n",
       "Sex                      0\n",
       "Ticket                 891\n",
       "Title                    0\n",
       "UrlId                    0\n",
       "Survived                 0\n",
       "TicketPrice              0\n",
       "TicketNumber           891\n",
       "BirthPlaceCountry      481\n",
       "BirthPlaceCity         479\n",
       "BirthPlaceRegion       775\n",
       "ResidenceCountry       110\n",
       "ResidenceCity          110\n",
       "ResidenceRegion        599\n",
       "DestinationCountry    1304\n",
       "DestinationCity       1304\n",
       "DestinationRegion     1339\n",
       "CabinDeck             1900\n",
       "AgeInDays                2\n",
       "PassengerId              0\n",
       "dtype: int64"
      ]
     },
     "execution_count": 17,
     "metadata": {},
     "output_type": "execute_result"
    }
   ],
   "source": [
    "# Load and format the extra data we crawled.\n",
    "import data.integration.merge as merge\n",
    "\n",
    "edf = merge.import_extra_data()\n",
    "edf = merge.apply_post_processing(edf)\n",
    "\n",
    "edf.isna().sum()"
   ]
  },
  {
   "cell_type": "code",
   "execution_count": 18,
   "metadata": {},
   "outputs": [
    {
     "name": "stdout",
     "output_type": "stream",
     "text": [
      "1309\n"
     ]
    }
   ],
   "source": [
    "# Load the mapping from Kaggle to extra.\n",
    "import os\n",
    "import json\n",
    "\n",
    "matches_filepath = os.path.join(os.environ['HOME'], 'kaggle/titanic/data/integration', 'matches.json')\n",
    "with open(matches_filepath, 'r') as f:\n",
    "    matches = json.load(f)\n",
    "\n",
    "print(len(matches))"
   ]
  },
  {
   "cell_type": "code",
   "execution_count": 19,
   "metadata": {},
   "outputs": [
    {
     "name": "stdout",
     "output_type": "stream",
     "text": [
      "Before the merge: 2208\n",
      "After the merge: 2208\n"
     ]
    },
    {
     "data": {
      "text/plain": [
       "(2208, 38)"
      ]
     },
     "execution_count": 19,
     "metadata": {},
     "output_type": "execute_result"
    }
   ],
   "source": [
    "# Add to the extra data the information only provided by Kaggle.\n",
    "df['EPassengerId'] = df['PassengerId'].apply(lambda x: matches[str(x)]).astype(int)\n",
    "\n",
    "# Rename to avoid collision.\n",
    "df = df.rename(columns={'PassengerId': 'KPassengerId'})\n",
    "\n",
    "# Select the columns to merge: in general we will trust the downloaded data more than Kaggle.\n",
    "columns_to_merge = [\n",
    "    'KPassengerId',\n",
    "#     'Pclass',\n",
    "#     'Name',\n",
    "#     'Sex',\n",
    "#     'Age',\n",
    "    'SibSp',\n",
    "    'Parch',\n",
    "#     'Ticket',\n",
    "#     'Fare',\n",
    "#     'Cabin',\n",
    "#     'Embarked',\n",
    "#     'LastName',\n",
    "#     'FirstName',\n",
    "#     'Title',\n",
    "#     'UnmarriedFirstName',\n",
    "#     'UnmarriedLastName',\n",
    "#     'TicketNumber',\n",
    "    'EPassengerId',\n",
    "]\n",
    "\n",
    "mdf = edf.merge(df[columns_to_merge], how='outer', left_on='PassengerId', right_on='EPassengerId')\n",
    "print('Before the merge: {}'.format(len(edf)))\n",
    "print('After the merge: {}'.format(len(mdf)))\n",
    "mdf.shape"
   ]
  },
  {
   "cell_type": "code",
   "execution_count": null,
   "metadata": {},
   "outputs": [],
   "source": []
  }
 ],
 "metadata": {
  "kernelspec": {
   "display_name": "Python 3",
   "language": "python",
   "name": "python3"
  },
  "language_info": {
   "codemirror_mode": {
    "name": "ipython",
    "version": 3
   },
   "file_extension": ".py",
   "mimetype": "text/x-python",
   "name": "python",
   "nbconvert_exporter": "python",
   "pygments_lexer": "ipython3",
   "version": "3.5.2"
  }
 },
 "nbformat": 4,
 "nbformat_minor": 4
}
