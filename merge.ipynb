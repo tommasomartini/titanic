{
 "cells": [
  {
   "cell_type": "markdown",
   "metadata": {},
   "source": [
    "# Merge\n",
    "This notebook merges the original Kaggle dataset with the data we downloaded.\n",
    "In general, we are going to trust the downloaded data more than the Kaggle dataset."
   ]
  },
  {
   "cell_type": "code",
   "execution_count": null,
   "metadata": {},
   "outputs": [],
   "source": [
    "# Load and format the data provided by Kaggle.\n",
    "import pandas as pd\n",
    "import dataset as ds\n",
    "import preprocessing as pp\n",
    "\n",
    "X_dataset, y_dataset = ds.load_training_set()\n",
    "X_testset = ds.load_test_set()\n",
    "\n",
    "training_set_ids = X_dataset.index.tolist()\n",
    "test_set_ids = X_testset.index.tolist()\n",
    "\n",
    "assert len(set(training_set_ids) & set(test_set_ids)) == 0\n",
    "\n",
    "df = pd.merge(X_dataset.reset_index(), X_testset.reset_index(), how='outer').set_index(ds.ID_COLUMN_NAME)\n",
    "\n",
    "df = pp.manual_fixes(df)\n",
    "df = pp.format_name(df)\n",
    "df = pp.add_ticket_number_column(df)\n",
    "df = df.reset_index()\n",
    "\n",
    "df.isna().sum()"
   ]
  },
  {
   "cell_type": "code",
   "execution_count": null,
   "metadata": {},
   "outputs": [],
   "source": [
    "# Load and format the extra data we crawled.\n",
    "import data.integration.merge as merge\n",
    "\n",
    "edf = merge.import_extra_data()\n",
    "edf = merge.apply_post_processing(edf)\n",
    "\n",
    "edf.isna().sum()"
   ]
  },
  {
   "cell_type": "code",
   "execution_count": null,
   "metadata": {},
   "outputs": [],
   "source": [
    "# Load the mapping from Kaggle to extra.\n",
    "import os\n",
    "import json\n",
    "\n",
    "matches_filepath = os.path.join(os.environ['HOME'], 'kaggle/titanic/data/integration', 'matches.json')\n",
    "with open(matches_filepath, 'r') as f:\n",
    "    matches = json.load(f)\n",
    "\n",
    "print(len(matches))"
   ]
  },
  {
   "cell_type": "code",
   "execution_count": null,
   "metadata": {},
   "outputs": [],
   "source": [
    "# Add to the extra data the information only provided by Kaggle.\n",
    "df['EPassengerId'] = df['PassengerId'].apply(lambda x: matches[str(x)]).astype(int)\n",
    "\n",
    "# Rename to avoid collision.\n",
    "df = df.rename(columns={'PassengerId': 'KPassengerId'})\n",
    "\n",
    "# Select the columns to merge: in general we will trust the downloaded data more than Kaggle.\n",
    "columns_to_merge = [\n",
    "    'KPassengerId',\n",
    "#     'Pclass',\n",
    "#     'Name',\n",
    "#     'Sex',\n",
    "#     'Age',\n",
    "    'SibSp',\n",
    "    'Parch',\n",
    "#     'Ticket',\n",
    "#     'Fare',\n",
    "#     'Cabin',\n",
    "#     'Embarked',\n",
    "#     'LastName',\n",
    "#     'FirstName',\n",
    "#     'Title',\n",
    "#     'UnmarriedFirstName',\n",
    "#     'UnmarriedLastName',\n",
    "#     'TicketNumber',\n",
    "    'EPassengerId',\n",
    "]\n",
    "\n",
    "mdf = edf.merge(df[columns_to_merge], how='outer', left_on='PassengerId', right_on='EPassengerId')\n",
    "print('Before the merge: {}'.format(len(edf)))\n",
    "print('After the merge: {}'.format(len(mdf)))\n",
    "mdf.shape"
   ]
  },
  {
   "cell_type": "code",
   "execution_count": null,
   "metadata": {},
   "outputs": [],
   "source": [
    "# Split training and test sets.\n",
    "\n",
    "mdf['Split'] = 'Extra'\n",
    "mdf.loc[mdf['KPassengerId'].isin(training_set_ids), ['Split']] = 'Training'\n",
    "mdf.loc[mdf['KPassengerId'].isin(test_set_ids), ['Split']] = 'Test'\n",
    "mdf.groupby('Split')['Split'].count()\n",
    "\n",
    "assert len(mdf.loc[mdf['Split'] == 'Training']) == len(training_set_ids)\n",
    "assert len(mdf.loc[mdf['Split'] == 'Test']) == len(test_set_ids)\n",
    "assert len(mdf.loc[mdf['Split'] == 'Extra']) == len(edf) - len(df)"
   ]
  },
  {
   "cell_type": "code",
   "execution_count": null,
   "metadata": {},
   "outputs": [],
   "source": [
    "import os\n",
    "\n",
    "# Save the eXtra-datasets.\n",
    "output_dir = os.path.join(os.environ['HOME'], 'kaggle/titanic/data')\n",
    "\n",
    "# Augmented training set.\n",
    "xtrain_df = mdf.loc[mdf['Split'].isin(('Extra', 'Training'))]\n",
    "xtrain_df.to_csv(os.path.join(output_dir, 'xtrain.csv'))\n",
    "\n",
    "# Augmented test set.\n",
    "xtest_df = mdf.loc[mdf['Split'] == 'Test']\n",
    "xtest_df.to_csv(os.path.join(output_dir, 'xtest.csv'))"
   ]
  }
 ],
 "metadata": {
  "kernelspec": {
   "display_name": "Python 3",
   "language": "python",
   "name": "python3"
  },
  "language_info": {
   "codemirror_mode": {
    "name": "ipython",
    "version": 3
   },
   "file_extension": ".py",
   "mimetype": "text/x-python",
   "name": "python",
   "nbconvert_exporter": "python",
   "pygments_lexer": "ipython3",
   "version": "3.5.2"
  }
 },
 "nbformat": 4,
 "nbformat_minor": 4
}
